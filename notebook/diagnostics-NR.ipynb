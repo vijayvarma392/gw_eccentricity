{
 "cells": [
  {
   "cell_type": "markdown",
   "id": "c48881b2-a62c-4af3-b465-1b31357bab2c",
   "metadata": {},
   "source": [
    "Diagnostics for NR"
   ]
  },
  {
   "cell_type": "code",
   "execution_count": 1,
   "id": "064133b3-5baa-44a5-baef-5f2353e565fd",
   "metadata": {},
   "outputs": [
    {
     "name": "stderr",
     "output_type": "stream",
     "text": [
      "/home1/md.shaikh/miniconda3/envs/eccimrct/lib/python3.8/site-packages/gwtools/rotations.py:63: UserWarning: Could not import GWFrames, needed for rotations module\n",
      "  _warnings.warn(\"Could not import GWFrames, needed for rotations module\")\n",
      "/home1/md.shaikh/miniconda3/envs/eccimrct/lib/python3.8/site-packages/gwtools/__init__.py:11: UserWarning: Could not import rotations, decompositions, or fitfuncs. These are not needed by GWSurrogate.\n",
      "  _warnings.warn(\"Could not import rotations, decompositions, or fitfuncs. These are not needed by GWSurrogate.\")\n"
     ]
    },
    {
     "name": "stdout",
     "output_type": "stream",
     "text": [
      "setting __package__ to gwsurrogate.new so relative imports work\n",
      "__name__ = gwsurrogate.new.spline_evaluation\n",
      "__package__= gwsurrogate.new\n",
      "setting __package__ to gwsurrogate.new so relative imports work\n",
      "setting __package__ to gwsurrogate.new so relative imports work\n"
     ]
    }
   ],
   "source": [
    "import sys\n",
    "sys.path.append(\"../\")\n",
    "\n",
    "import matplotlib.pyplot as plt\n",
    "from matplotlib.backends.backend_pdf import PdfPages\n",
    "\n",
    "import gw_eccentricity\n",
    "from gw_eccentricity import get_available_methods\n",
    "from gw_eccentricity import measure_eccentricity\n",
    "from gw_eccentricity.load_data import load_waveform\n",
    "from gw_eccentricity.plot_settings import colorsDict, lstyles, lwidths, figWidthsTwoColDict, figHeightsDict, use_fancy_plotsettings\n",
    "\n",
    "%load_ext autoreload\n",
    "%autoreload 2"
   ]
  },
  {
   "cell_type": "code",
   "execution_count": 2,
   "id": "b30ba51c-e0cf-4bb7-b53e-d130151b7edb",
   "metadata": {},
   "outputs": [],
   "source": [
    "import glob\n",
    "import numpy as np\n",
    "from tqdm import tqdm\n",
    "from gw_eccentricity.load_data import load_lvcnr_hack"
   ]
  },
  {
   "cell_type": "code",
   "execution_count": 3,
   "id": "204260fb-37e9-4e31-b021-0f3dd67c90c0",
   "metadata": {},
   "outputs": [],
   "source": [
    "sxs_nr_waveforms = sorted(glob.glob(\"../data/ecc_waveforms/Non-Precessing/SXS/BBH_S*.h5\"))\n",
    "et_waveforms = sorted(glob.glob(\"../data/ecc_waveforms/Non-Precessing/ET/*.h5\"))"
   ]
  },
  {
   "cell_type": "code",
   "execution_count": 4,
   "id": "9cd1337d-b41b-44af-90aa-468cb6e4b74c",
   "metadata": {},
   "outputs": [],
   "source": [
    "all_nr_waveforms = sorted(np.append(sxs_nr_waveforms, et_waveforms))"
   ]
  },
  {
   "cell_type": "code",
   "execution_count": 5,
   "id": "a850c6d3-31a3-4049-a17f-d63a5219bf85",
   "metadata": {},
   "outputs": [],
   "source": [
    "# in sxs_nr_waveforms\n",
    "problematic_cases = [8, # need to increase flow and width \n",
    "                     34, # Takes too long to load, did not load within tested time.\n",
    "                     37, # loads too short waveform\n",
    "                    ]"
   ]
  },
  {
   "cell_type": "code",
   "execution_count": 6,
   "id": "8a7138e7-bf44-483f-9a50-6efaa8d82f75",
   "metadata": {},
   "outputs": [],
   "source": [
    "num_orbits_dict= {\"BBH_SKS_q1_e09_D130_DoNotControlLEqualsOneShape_AdjustSphereCExtents_Res3.h5\": 3,\n",
    "                 \"BBH_SKS_q1_e09_D130_SKS_DoNotControlLEqualsOneShape_Res3.h5\": 3}"
   ]
  },
  {
   "cell_type": "code",
   "execution_count": 7,
   "id": "664e1db9",
   "metadata": {},
   "outputs": [],
   "source": [
    "def MakeDiagnosticPlots(methods, nr_waveforms, num_orbits_dict):\n",
    "    \"\"\"loop through all NR waveforms, and make diagnostics plots \n",
    "         methods - list of methods to apply\n",
    "         nr_waveforms - list of paths to NR waveforms to apply methods to\n",
    "    \"\"\"\n",
    "\n",
    "    # make output objects, one per method\n",
    "    pps = [PdfPages(f\"NR-diagnostics-{method}.pdf\") for method in methods]\n",
    "\n",
    "\n",
    "    comparisons = PdfPages(\"NR_diagnostics-comparisons.pdf\")\n",
    "\n",
    "    for idx, waveform_path in enumerate(nr_waveforms):\n",
    "        w = waveform_path.split(\"/\")[-1]\n",
    "        print(f\"===== {idx}/{len(nr_waveforms)} ===== {w} =====\", flush=True)\n",
    "        kwargs = {\"filepath\": waveform_path,\n",
    "                \"include_zero_ecc\": True,\n",
    "                \"num_orbits_to_remove_as_junk\": num_orbits_dict.get(w, 3)}\n",
    "        dataDict = load_lvcnr_hack(**kwargs)\n",
    "        tref_vec = dataDict[\"t\"]\n",
    "\n",
    "\n",
    "        # for ecc-comparison plot\n",
    "        fig0, ax0 = plt.subplots(figsize=(12, 6))\n",
    "\n",
    "        for method,pp in zip(methods, pps):\n",
    "            tref_out, ecc_vec, mean_ano_vec, eccMethod = measure_eccentricity(\n",
    "                tref_in=tref_vec,\n",
    "                dataDict=dataDict,\n",
    "                method=method, \n",
    "                return_gwecc_object=True,\n",
    "                extra_kwargs={\"debug\": False})\n",
    "            fig, ax = eccMethod.make_diagnostic_plots(twocol=True)\n",
    "            q = dataDict[\"params_dict\"][\"q\"]\n",
    "            ecc = dataDict[\"params_dict\"][\"ecc\"]\n",
    "            chi1 = np.around(dataDict[\"params_dict\"][\"chi1\"], 5)\n",
    "            chi2 = np.around(dataDict[\"params_dict\"][\"chi2\"], 5)\n",
    "            title = (f\"case {idx}/{len(sxs_nr_waveforms)-1}, \"\n",
    "                    f\"$q$={q:.1f}, \"\n",
    "                    f\"$\\chi_{1}$={chi1}, \"\n",
    "                    f\"$\\chi_{2}$={chi2}, \"\n",
    "                    f\"ecc={ecc:.2f}\\n\"\n",
    "                    f\"method={method}, \"\n",
    "                    f\"id={w}\")\n",
    "            fig.suptitle(title, ha=\"center\", fontsize=10)\n",
    "            fig.set_tight_layout(True)\n",
    "            fig.savefig(pp,format='pdf')\n",
    "            plt.close(fig)\n",
    "\n",
    "            eccMethod.plot_measured_ecc(fig0, ax0, add_vline_at_tref=True if method == methods[0] else False, **{\"label\": method, \"lw\": lwidths[method], \"ls\": lstyles[method], \"c\": colorsDict[method]})\n",
    "        ax0.set_title(f\"q={q:.1f}, ecc={ecc:.2f}, {w}\", fontsize=14)\n",
    "        ax0.legend();\n",
    "        fig0.savefig(comparisons,format='pdf')\n",
    "        plt.close(fig0)\n",
    "\n",
    "    for pp in pps:\n",
    "        pp.close()\n",
    "    comparisons.close()"
   ]
  },
  {
   "cell_type": "code",
   "execution_count": 8,
   "id": "ab991d6b",
   "metadata": {},
   "outputs": [
    {
     "name": "stdout",
     "output_type": "stream",
     "text": [
      "===== 0/2 ===== BBH_SHK_q3_e04_D28_Res3.h5 =====\n",
      "===== 1/2 ===== BBH_SHK_q3_e08_D55_Res3.h5 =====\n"
     ]
    }
   ],
   "source": [
    "# to test, analyse only two waveforms:\n",
    "MakeDiagnosticPlots(gw_eccentricity.get_available_methods(), sxs_nr_waveforms[30:32], num_orbits_dict)"
   ]
  },
  {
   "cell_type": "code",
   "execution_count": 8,
   "id": "5bb4e748",
   "metadata": {},
   "outputs": [
    {
     "name": "stdout",
     "output_type": "stream",
     "text": [
      "===== 0/61 ===== BBH_SHK_q10_e01_D14.5_Res3.h5 =====\n"
     ]
    },
    {
     "name": "stderr",
     "output_type": "stream",
     "text": [
      "/home1/md.shaikh/Eccentricity/notebook/../gw_eccentricity/eccDefinition.py:450: UserWarning: Encountered negative eccentricity.\n",
      "  warnings.warn(\"Encountered negative eccentricity.\")\n"
     ]
    },
    {
     "name": "stdout",
     "output_type": "stream",
     "text": [
      "===== 1/61 ===== BBH_SHK_q10_e01_D16_Res3.h5 =====\n"
     ]
    },
    {
     "name": "stderr",
     "output_type": "stream",
     "text": [
      "/home1/md.shaikh/Eccentricity/notebook/../gw_eccentricity/eccDefinition.py:450: UserWarning: Encountered negative eccentricity.\n",
      "  warnings.warn(\"Encountered negative eccentricity.\")\n"
     ]
    },
    {
     "name": "stdout",
     "output_type": "stream",
     "text": [
      "===== 2/61 ===== BBH_SHK_q10_e05_D28_Res3.h5 =====\n",
      "===== 3/61 ===== BBH_SHK_q10_e05_D30_Res3.h5 =====\n",
      "===== 4/61 ===== BBH_SHK_q10_e07_D45_Res3.h5 =====\n",
      "===== 5/61 ===== BBH_SHK_q1_0_0_e01_D16_FastDyn_Res3.h5 =====\n"
     ]
    },
    {
     "name": "stderr",
     "output_type": "stream",
     "text": [
      "/home1/md.shaikh/Eccentricity/notebook/../gw_eccentricity/eccDefinition.py:450: UserWarning: Encountered negative eccentricity.\n",
      "  warnings.warn(\"Encountered negative eccentricity.\")\n",
      "/home1/md.shaikh/Eccentricity/notebook/../gw_eccentricity/eccDefinition.py:450: UserWarning: Encountered negative eccentricity.\n",
      "  warnings.warn(\"Encountered negative eccentricity.\")\n"
     ]
    },
    {
     "name": "stdout",
     "output_type": "stream",
     "text": [
      "===== 6/61 ===== BBH_SHK_q1_0_0_e01_D20_Res3.h5 =====\n",
      "===== 7/61 ===== BBH_SHK_q1_0_0_e02_D18_Res3.h5 =====\n",
      "===== 8/61 ===== BBH_SHK_q1_0_0_e02_D22_Res3.h5 =====\n",
      "===== 9/61 ===== BBH_SHK_q1_0_0_e05_D34_Res3.h5 =====\n",
      "===== 10/61 ===== BBH_SHK_q1_e035_D26_Res3.h5 =====\n",
      "===== 11/61 ===== BBH_SHK_q1_e04_D28_Res3.h5 =====\n",
      "===== 12/61 ===== BBH_SHK_q1_e07_D45_Res3.h5 =====\n",
      "===== 13/61 ===== BBH_SHK_q1_e08_D60_Res3.h5 =====\n",
      "===== 14/61 ===== BBH_SHK_q1_e095_D65_Res3.h5 =====\n",
      "===== 15/61 ===== BBH_SHK_q1_e09_D70_Res3.h5 =====\n",
      "===== 16/61 ===== BBH_SHK_q2_e01_D18_Res3.h5 =====\n",
      "===== 17/61 ===== BBH_SHK_q2_e02_D20_Res3.h5 =====\n",
      "===== 18/61 ===== BBH_SHK_q2_e035_D26_Res3.h5 =====\n",
      "===== 19/61 ===== BBH_SHK_q2_e04_D28_Res3.h5 =====\n",
      "===== 20/61 ===== BBH_SHK_q2_e05_D34_Res3.h5 =====\n",
      "===== 21/61 ===== BBH_SHK_q2_e08_D60_Res3.h5 =====\n",
      "===== 22/61 ===== BBH_SHK_q2_e095_D65_Res3.h5 =====\n",
      "===== 23/61 ===== BBH_SHK_q3_e01_D22_Res3.h5 =====\n",
      "===== 24/61 ===== BBH_SHK_q3_e025_D22_Res3.h5 =====\n",
      "===== 25/61 ===== BBH_SHK_q3_e02_D17.3_Res3.h5 =====\n",
      "===== 26/61 ===== BBH_SHK_q3_e02_D22_Res3.h5 =====\n",
      "===== 27/61 ===== BBH_SHK_q3_e035_D26_Res3.h5 =====\n",
      "===== 28/61 ===== BBH_SHK_q3_e035_D28_Res3.h5 =====\n",
      "===== 29/61 ===== BBH_SHK_q3_e03_D28_Res3.h5 =====\n",
      "===== 30/61 ===== BBH_SHK_q3_e04_D28_Res3.h5 =====\n",
      "===== 31/61 ===== BBH_SHK_q3_e08_D55_Res3.h5 =====\n",
      "===== 32/61 ===== BBH_SHK_q4_0_0_e05_D34_Res3.h5 =====\n",
      "===== 33/61 ===== BBH_SHK_q4_e01_D18_Res3.h5 =====\n",
      "===== 34/61 ===== BBH_SHK_q4_e02_D20_Res3.h5 =====\n",
      "===== 35/61 ===== BBH_SHK_q4_e035_D26_Res3.h5 =====\n",
      "===== 36/61 ===== BBH_SHK_q4_e04_D28_Res3.h5 =====\n",
      "===== 37/61 ===== BBH_SHK_q4_e08_D55_Res3.h5 =====\n",
      "===== 38/61 ===== BBH_SHK_q4_e095_D65_Res3.h5 =====\n",
      "===== 39/61 ===== BBH_SHK_q6_e01_D18_Res3.h5 =====\n",
      "===== 40/61 ===== BBH_SHK_q6_e02_D20_Res3.h5 =====\n",
      "===== 41/61 ===== BBH_SHK_q6_e035_D26_Res3.h5 =====\n",
      "===== 42/61 ===== BBH_SHK_q6_e04_D28_Res3.h5 =====\n",
      "===== 43/61 ===== BBH_SHK_q6_e05_D34_Res3.h5 =====\n",
      "===== 44/61 ===== BBH_SHK_q6_e07_D45_Res3.h5 =====\n",
      "===== 45/61 ===== BBH_SHK_q6_e095_D65_Res3.h5 =====\n"
     ]
    },
    {
     "name": "stderr",
     "output_type": "stream",
     "text": [
      "/home1/md.shaikh/Eccentricity/notebook/../gw_eccentricity/eccDefinition.py:643: UserWarning: Number of pericenters and number of apocenters differ by 2. This implies that pericenters and apocenters are not appearing alternately.\n",
      "  warnings.warn(\n",
      "/home1/md.shaikh/Eccentricity/notebook/../gw_eccentricity/eccDefinition.py:590: UserWarning: At least a pair of apocenters are too close. Minimum orbital phase diff is 0.06482649065037549. Times of occurrences are [-8529.88525572]\n",
      "  warnings.warn(f\"At least a pair of {extrema_type} are too close.\"\n",
      "/home1/md.shaikh/Eccentricity/notebook/../gw_eccentricity/eccDefinition.py:596: UserWarning: Phase shift closer to pi than 2 pi detected.\n",
      "  warnings.warn(\"Phase shift closer to pi than 2 pi detected.\")\n",
      "/home1/md.shaikh/Eccentricity/notebook/../gw_eccentricity/eccDefinition.py:608: UserWarning: At least a pair of apocenters are too far. Maximum orbital phase diff is 12.080737406418478. Times of occurrences are [-7548.98525572]\n",
      "  warnings.warn(f\"At least a pair of {extrema_type} are too far.\"\n"
     ]
    },
    {
     "name": "stdout",
     "output_type": "stream",
     "text": [
      "===== 46/61 ===== BBH_SHK_q8_e01_D14.5_Res3.h5 =====\n"
     ]
    },
    {
     "name": "stderr",
     "output_type": "stream",
     "text": [
      "/home1/md.shaikh/Eccentricity/notebook/../gw_eccentricity/eccDefinition.py:450: UserWarning: Encountered negative eccentricity.\n",
      "  warnings.warn(\"Encountered negative eccentricity.\")\n",
      "/home1/md.shaikh/Eccentricity/notebook/../gw_eccentricity/eccDefinition.py:685: UserWarning: There is at least one instance where pericenters and apocenters do not appear alternately.\n",
      "  warnings.warn(\n"
     ]
    },
    {
     "name": "stdout",
     "output_type": "stream",
     "text": [
      "===== 47/61 ===== BBH_SHK_q8_e02_D20_Res3.h5 =====\n",
      "===== 48/61 ===== BBH_SHK_q8_e035_D26_Res3.h5 =====\n",
      "===== 49/61 ===== BBH_SHK_q8_e04_D28_Res3.h5 =====\n",
      "===== 50/61 ===== BBH_SHK_q8_e05_D28_Res3.h5 =====\n",
      "===== 51/61 ===== BBH_SKS_q1.1_-0.4_-0.7_e025_D22_Res3.h5 =====\n",
      "===== 52/61 ===== BBH_SKS_q1.1_-0.4_-0.7_e02_D22_Res3.h5 =====\n",
      "===== 53/61 ===== BBH_SKS_q1.1_-0.4_-0.7_e04_D28_Res3.h5 =====\n",
      "===== 54/61 ===== BBH_SKS_q1.1_-0.4_-0.7_e05_D28_Res3.h5 =====\n",
      "===== 55/61 ===== BBH_SKS_q10_-0.75_0_e05_D28_Res3.h5 =====\n"
     ]
    },
    {
     "name": "stderr",
     "output_type": "stream",
     "text": [
      "/home1/md.shaikh/Eccentricity/notebook/../gw_eccentricity/eccDefinition.py:685: UserWarning: There is at least one instance where pericenters and apocenters do not appear alternately.\n",
      "  warnings.warn(\n",
      "/home1/md.shaikh/Eccentricity/notebook/../gw_eccentricity/eccDefinition.py:608: UserWarning: At least a pair of pericenters are too far. Maximum orbital phase diff is 11.59306482111566. Times of occurrences are [-2484.22753189]\n",
      "  warnings.warn(f\"At least a pair of {extrema_type} are too far.\"\n",
      "/home1/md.shaikh/Eccentricity/notebook/../gw_eccentricity/eccDefinition.py:590: UserWarning: At least a pair of apocenters are too close. Minimum orbital phase diff is 1.6221724874718646. Times of occurrences are [-3195.3275319]\n",
      "  warnings.warn(f\"At least a pair of {extrema_type} are too close.\"\n",
      "/home1/md.shaikh/Eccentricity/notebook/../gw_eccentricity/eccDefinition.py:596: UserWarning: Phase shift closer to pi than 2 pi detected.\n",
      "  warnings.warn(\"Phase shift closer to pi than 2 pi detected.\")\n",
      "/home1/md.shaikh/Eccentricity/notebook/../gw_eccentricity/eccDefinition.py:608: UserWarning: At least a pair of apocenters are too far. Maximum orbital phase diff is 12.41695599016991. Times of occurrences are [-2758.32753189]\n",
      "  warnings.warn(f\"At least a pair of {extrema_type} are too far.\"\n"
     ]
    },
    {
     "name": "stdout",
     "output_type": "stream",
     "text": [
      "===== 56/61 ===== BBH_SKS_q1_-0.75_-0.75_e07_D45_Res3.h5 =====\n"
     ]
    },
    {
     "name": "stderr",
     "output_type": "stream",
     "text": [
      "/home1/md.shaikh/Eccentricity/notebook/../gw_eccentricity/eccDefinition.py:685: UserWarning: There is at least one instance where pericenters and apocenters do not appear alternately.\n",
      "  warnings.warn(\n",
      "/home1/md.shaikh/Eccentricity/notebook/../gw_eccentricity/eccDefinition.py:590: UserWarning: At least a pair of apocenters are too close. Minimum orbital phase diff is 0.10341630755333853. Times of occurrences are [-6760.44010759]\n",
      "  warnings.warn(f\"At least a pair of {extrema_type} are too close.\"\n",
      "/home1/md.shaikh/Eccentricity/notebook/../gw_eccentricity/eccDefinition.py:596: UserWarning: Phase shift closer to pi than 2 pi detected.\n",
      "  warnings.warn(\"Phase shift closer to pi than 2 pi detected.\")\n",
      "/home1/md.shaikh/Eccentricity/notebook/../gw_eccentricity/eccDefinition.py:608: UserWarning: At least a pair of apocenters are too far. Maximum orbital phase diff is 10.322872333901685. Times of occurrences are [-5878.54010759]\n",
      "  warnings.warn(f\"At least a pair of {extrema_type} are too far.\"\n"
     ]
    },
    {
     "name": "stdout",
     "output_type": "stream",
     "text": [
      "===== 57/61 ===== BBH_SKS_q1_0.75_0.75_e07_D45_Res3.h5 =====\n"
     ]
    },
    {
     "name": "stderr",
     "output_type": "stream",
     "text": [
      "/home1/md.shaikh/Eccentricity/notebook/../gw_eccentricity/eccDefinition.py:643: UserWarning: Number of pericenters and number of apocenters differ by 3. This implies that pericenters and apocenters are not appearing alternately.\n",
      "  warnings.warn(\n",
      "/home1/md.shaikh/Eccentricity/notebook/../gw_eccentricity/eccDefinition.py:596: UserWarning: Phase shift closer to pi than 2 pi detected.\n",
      "  warnings.warn(\"Phase shift closer to pi than 2 pi detected.\")\n",
      "/home1/md.shaikh/Eccentricity/notebook/../gw_eccentricity/eccDefinition.py:608: UserWarning: At least a pair of pericenters are too far. Maximum orbital phase diff is 9.767205115201222. Times of occurrences are [-14198.36024439]\n",
      "  warnings.warn(f\"At least a pair of {extrema_type} are too far.\"\n",
      "/home1/md.shaikh/Eccentricity/notebook/../gw_eccentricity/eccDefinition.py:590: UserWarning: At least a pair of apocenters are too close. Minimum orbital phase diff is 0.12293185642160154. Times of occurrences are [-15652.36024437 -14638.66024438 -13712.56024439]\n",
      "  warnings.warn(f\"At least a pair of {extrema_type} are too close.\"\n",
      "/home1/md.shaikh/Eccentricity/notebook/../gw_eccentricity/eccDefinition.py:608: UserWarning: At least a pair of apocenters are too far. Maximum orbital phase diff is 8.866196038321362. Times of occurrences are [-14670.96024438 -13743.26024439 -12835.06024441]\n",
      "  warnings.warn(f\"At least a pair of {extrema_type} are too far.\"\n",
      "/home1/md.shaikh/Eccentricity/notebook/../gw_eccentricity/eccDefinition.py:643: UserWarning: Number of pericenters and number of apocenters differ by 4. This implies that pericenters and apocenters are not appearing alternately.\n",
      "  warnings.warn(\n",
      "/home1/md.shaikh/Eccentricity/notebook/../gw_eccentricity/eccDefinition.py:596: UserWarning: Phase shift closer to pi than 2 pi detected.\n",
      "  warnings.warn(\"Phase shift closer to pi than 2 pi detected.\")\n",
      "/home1/md.shaikh/Eccentricity/notebook/../gw_eccentricity/eccDefinition.py:608: UserWarning: At least a pair of pericenters are too far. Maximum orbital phase diff is 9.325072684949447. Times of occurrences are [-14198.46024439]\n",
      "  warnings.warn(f\"At least a pair of {extrema_type} are too far.\"\n",
      "/home1/md.shaikh/Eccentricity/notebook/../gw_eccentricity/eccDefinition.py:590: UserWarning: At least a pair of apocenters are too close. Minimum orbital phase diff is 0.013777804472912436. Times of occurrences are [-15652.36024437 -14642.26024438 -14638.66024438 -13712.56024439]\n",
      "  warnings.warn(f\"At least a pair of {extrema_type} are too close.\"\n",
      "/home1/md.shaikh/Eccentricity/notebook/../gw_eccentricity/eccDefinition.py:608: UserWarning: At least a pair of apocenters are too far. Maximum orbital phase diff is 9.859317494088657. Times of occurrences are [-14664.56024438 -13726.76024439 -12835.06024441]\n",
      "  warnings.warn(f\"At least a pair of {extrema_type} are too far.\"\n"
     ]
    },
    {
     "name": "stdout",
     "output_type": "stream",
     "text": [
      "===== 58/61 ===== BBH_SKS_q1_0.9_0.9_e05_D28_Res3.h5 =====\n"
     ]
    },
    {
     "name": "stderr",
     "output_type": "stream",
     "text": [
      "/home1/md.shaikh/Eccentricity/notebook/../gw_eccentricity/eccDefinition.py:643: UserWarning: Number of pericenters and number of apocenters differ by 2. This implies that pericenters and apocenters are not appearing alternately.\n",
      "  warnings.warn(\n",
      "/home1/md.shaikh/Eccentricity/notebook/../gw_eccentricity/eccDefinition.py:590: UserWarning: At least a pair of apocenters are too close. Minimum orbital phase diff is 0.22959956968837147. Times of occurrences are [-9601.72655884]\n",
      "  warnings.warn(f\"At least a pair of {extrema_type} are too close.\"\n",
      "/home1/md.shaikh/Eccentricity/notebook/../gw_eccentricity/eccDefinition.py:596: UserWarning: Phase shift closer to pi than 2 pi detected.\n",
      "  warnings.warn(\"Phase shift closer to pi than 2 pi detected.\")\n",
      "/home1/md.shaikh/Eccentricity/notebook/../gw_eccentricity/eccDefinition.py:608: UserWarning: At least a pair of apocenters are too far. Maximum orbital phase diff is 8.534371615420554. Times of occurrences are [-8986.92655883]\n",
      "  warnings.warn(f\"At least a pair of {extrema_type} are too far.\"\n",
      "/home1/md.shaikh/Eccentricity/notebook/../gw_eccentricity/eccDefinition.py:685: UserWarning: There is at least one instance where pericenters and apocenters do not appear alternately.\n",
      "  warnings.warn(\n",
      "/home1/md.shaikh/Eccentricity/notebook/../gw_eccentricity/eccDefinition.py:590: UserWarning: At least a pair of apocenters are too close. Minimum orbital phase diff is 0.2303273746176835. Times of occurrences are [-9601.62655884]\n",
      "  warnings.warn(f\"At least a pair of {extrema_type} are too close.\"\n",
      "/home1/md.shaikh/Eccentricity/notebook/../gw_eccentricity/eccDefinition.py:596: UserWarning: Phase shift closer to pi than 2 pi detected.\n",
      "  warnings.warn(\"Phase shift closer to pi than 2 pi detected.\")\n",
      "/home1/md.shaikh/Eccentricity/notebook/../gw_eccentricity/eccDefinition.py:608: UserWarning: At least a pair of apocenters are too far. Maximum orbital phase diff is 9.661288404523845. Times of occurrences are [-8986.92655883]\n",
      "  warnings.warn(f\"At least a pair of {extrema_type} are too far.\"\n"
     ]
    },
    {
     "name": "stdout",
     "output_type": "stream",
     "text": [
      "===== 59/61 ===== BBH_SKS_q1_e09_D130_DoNotControlLEqualsOneShape_AdjustSphereCExtents_Res3.h5 =====\n"
     ]
    },
    {
     "name": "stderr",
     "output_type": "stream",
     "text": [
      "/home1/md.shaikh/Eccentricity/notebook/../gw_eccentricity/eccDefinition.py:643: UserWarning: Number of pericenters and number of apocenters differ by 2. This implies that pericenters and apocenters are not appearing alternately.\n",
      "  warnings.warn(\n",
      "/home1/md.shaikh/Eccentricity/notebook/../gw_eccentricity/eccDefinition.py:590: UserWarning: At least a pair of apocenters are too close. Minimum orbital phase diff is 0.037841946546084415. Times of occurrences are [-6717.42448362]\n",
      "  warnings.warn(f\"At least a pair of {extrema_type} are too close.\"\n",
      "/home1/md.shaikh/Eccentricity/notebook/../gw_eccentricity/eccDefinition.py:596: UserWarning: Phase shift closer to pi than 2 pi detected.\n",
      "  warnings.warn(\"Phase shift closer to pi than 2 pi detected.\")\n",
      "/home1/md.shaikh/Eccentricity/notebook/../gw_eccentricity/eccDefinition.py:608: UserWarning: At least a pair of apocenters are too far. Maximum orbital phase diff is 10.795491125821371. Times of occurrences are [-5445.52448361]\n",
      "  warnings.warn(f\"At least a pair of {extrema_type} are too far.\"\n",
      "/home1/md.shaikh/Eccentricity/notebook/../gw_eccentricity/eccDefinition.py:643: UserWarning: Number of pericenters and number of apocenters differ by 2. This implies that pericenters and apocenters are not appearing alternately.\n",
      "  warnings.warn(\n",
      "/home1/md.shaikh/Eccentricity/notebook/../gw_eccentricity/eccDefinition.py:590: UserWarning: At least a pair of apocenters are too close. Minimum orbital phase diff is 0.046695711333047285. Times of occurrences are [-6691.82448362]\n",
      "  warnings.warn(f\"At least a pair of {extrema_type} are too close.\"\n",
      "/home1/md.shaikh/Eccentricity/notebook/../gw_eccentricity/eccDefinition.py:596: UserWarning: Phase shift closer to pi than 2 pi detected.\n",
      "  warnings.warn(\"Phase shift closer to pi than 2 pi detected.\")\n",
      "/home1/md.shaikh/Eccentricity/notebook/../gw_eccentricity/eccDefinition.py:608: UserWarning: At least a pair of apocenters are too far. Maximum orbital phase diff is 11.910452782288658. Times of occurrences are [-5401.32448361]\n",
      "  warnings.warn(f\"At least a pair of {extrema_type} are too far.\"\n"
     ]
    },
    {
     "name": "stdout",
     "output_type": "stream",
     "text": [
      "===== 60/61 ===== BBH_SKS_q1_e09_D130_SKS_DoNotControlLEqualsOneShape_Res3.h5 =====\n"
     ]
    },
    {
     "name": "stderr",
     "output_type": "stream",
     "text": [
      "/home1/md.shaikh/Eccentricity/notebook/../gw_eccentricity/eccDefinition.py:685: UserWarning: There is at least one instance where pericenters and apocenters do not appear alternately.\n",
      "  warnings.warn(\n",
      "/home1/md.shaikh/Eccentricity/notebook/../gw_eccentricity/eccDefinition.py:596: UserWarning: Phase shift closer to pi than 2 pi detected.\n",
      "  warnings.warn(\"Phase shift closer to pi than 2 pi detected.\")\n",
      "/home1/md.shaikh/Eccentricity/notebook/../gw_eccentricity/eccDefinition.py:608: UserWarning: At least a pair of pericenters are too far. Maximum orbital phase diff is 10.386346482137355. Times of occurrences are [-6100.49718692]\n",
      "  warnings.warn(f\"At least a pair of {extrema_type} are too far.\"\n",
      "/home1/md.shaikh/Eccentricity/notebook/../gw_eccentricity/eccDefinition.py:685: UserWarning: There is at least one instance where pericenters and apocenters do not appear alternately.\n",
      "  warnings.warn(\n",
      "/home1/md.shaikh/Eccentricity/notebook/../gw_eccentricity/eccDefinition.py:590: UserWarning: At least a pair of pericenters are too close. Minimum orbital phase diff is 0.1742451910025693. Times of occurrences are [-8240.99718693 -8122.29718693]\n",
      "  warnings.warn(f\"At least a pair of {extrema_type} are too close.\"\n",
      "/home1/md.shaikh/Eccentricity/notebook/../gw_eccentricity/eccDefinition.py:596: UserWarning: Phase shift closer to pi than 2 pi detected.\n",
      "  warnings.warn(\"Phase shift closer to pi than 2 pi detected.\")\n",
      "/home1/md.shaikh/Eccentricity/notebook/../gw_eccentricity/eccDefinition.py:608: UserWarning: At least a pair of pericenters are too far. Maximum orbital phase diff is 10.485920475057071. Times of occurrences are [-7541.49718693 -6101.99718692]\n",
      "  warnings.warn(f\"At least a pair of {extrema_type} are too far.\"\n",
      "/home1/md.shaikh/Eccentricity/notebook/../gw_eccentricity/eccDefinition.py:590: UserWarning: At least a pair of apocenters are too close. Minimum orbital phase diff is 0.5389590935493125. Times of occurrences are [-8601.09718693 -8219.09718693]\n",
      "  warnings.warn(f\"At least a pair of {extrema_type} are too close.\"\n",
      "/home1/md.shaikh/Eccentricity/notebook/../gw_eccentricity/eccDefinition.py:608: UserWarning: At least a pair of apocenters are too far. Maximum orbital phase diff is 10.633050523949521. Times of occurrences are [-6817.99718692]\n",
      "  warnings.warn(f\"At least a pair of {extrema_type} are too far.\"\n",
      "/home1/md.shaikh/Eccentricity/notebook/../gw_eccentricity/eccDefinition.py:685: UserWarning: There is at least one instance where pericenters and apocenters do not appear alternately.\n",
      "  warnings.warn(\n",
      "/home1/md.shaikh/Eccentricity/notebook/../gw_eccentricity/eccDefinition.py:590: UserWarning: At least a pair of pericenters are too close. Minimum orbital phase diff is 0.1877445133927722. Times of occurrences are [-8122.59718693]\n",
      "  warnings.warn(f\"At least a pair of {extrema_type} are too close.\"\n",
      "/home1/md.shaikh/Eccentricity/notebook/../gw_eccentricity/eccDefinition.py:596: UserWarning: Phase shift closer to pi than 2 pi detected.\n",
      "  warnings.warn(\"Phase shift closer to pi than 2 pi detected.\")\n",
      "/home1/md.shaikh/Eccentricity/notebook/../gw_eccentricity/eccDefinition.py:608: UserWarning: At least a pair of pericenters are too far. Maximum orbital phase diff is 10.323597855094732. Times of occurrences are [-7541.59718693 -6101.99718692]\n",
      "  warnings.warn(f\"At least a pair of {extrema_type} are too far.\"\n",
      "/home1/md.shaikh/Eccentricity/notebook/../gw_eccentricity/eccDefinition.py:590: UserWarning: At least a pair of apocenters are too close. Minimum orbital phase diff is 0.07782259844291417. Times of occurrences are [-8218.99718693 -6741.69718692]\n",
      "  warnings.warn(f\"At least a pair of {extrema_type} are too close.\"\n",
      "/home1/md.shaikh/Eccentricity/notebook/../gw_eccentricity/eccDefinition.py:608: UserWarning: At least a pair of apocenters are too far. Maximum orbital phase diff is 11.62541158756467. Times of occurrences are [-6783.69718692 -5473.59718692]\n",
      "  warnings.warn(f\"At least a pair of {extrema_type} are too far.\"\n"
     ]
    }
   ],
   "source": [
    "# ALL SXS-WAVEFORMS.  THIS TAKES A FEW MINUTES !!!\n",
    "MakeDiagnosticPlots(gw_eccentricity.get_available_methods(), sxs_nr_waveforms, num_orbits_dict)"
   ]
  },
  {
   "cell_type": "markdown",
   "id": "189a8151-3250-4ed1-ad88-d4a7126befb1",
   "metadata": {},
   "source": [
    "### Compare ecc vs time plot for different methods with varying num orbits before merger"
   ]
  },
  {
   "cell_type": "code",
   "execution_count": 8,
   "id": "cc901ed0-e86d-41ec-9837-fcb41de22496",
   "metadata": {},
   "outputs": [],
   "source": [
    "def MakeDiagnosticPlotsAsFunctionOfNumOrbits(methods, nr_waveforms, list_num_orbits_to_exclude_before_merger, style=\"APS\"):\n",
    "    \"\"\"loop through all NR waveforms, and make diagnostics plots.\n",
    "    \n",
    "    For different methods by varying the num orbits before merger variable.\n",
    "    \n",
    "    Parameters:\n",
    "    -----------\n",
    "    methods:\n",
    "        list of methods to apply.\n",
    "        \n",
    "    nr_waveforms:\n",
    "        list of paths to NR waveforms to apply methods to.\n",
    "        \n",
    "    list_num_orbits_to_exclude_before_merger:\n",
    "        list of num orbits to exclude before mergers.\n",
    "    \n",
    "    style:\n",
    "        Settings for plots.\n",
    "    \"\"\"\n",
    "\n",
    "    # make output object\n",
    "    num_strings = \"_\".join([f\"{x:.1f}\" for x in list_num_orbits_to_exclude_before_merger])\n",
    "    pp = PdfPages(f\"NR-diagnostics-for-num-orbits_{num_strings}.pdf\")\n",
    "\n",
    "    for idx, waveform_path in enumerate(nr_waveforms):\n",
    "        w = waveform_path.split(\"/\")[-1]\n",
    "        print(f\"===== {idx}/{len(nr_waveforms)} ===== {w} =====\", flush=True)\n",
    "        kwargs = {\"filepath\": waveform_path,\n",
    "                \"include_zero_ecc\": True,\n",
    "                \"num_orbits_to_remove_as_junk\": num_orbits_dict.get(w, 3)}\n",
    "        dataDict = load_lvcnr_hack(**kwargs)\n",
    "        tref_vec = dataDict[\"t\"]\n",
    "\n",
    "\n",
    "        # for ecc-comparison plot\n",
    "        nrows = len(list_num_orbits_to_exclude_before_merger)\n",
    "        use_fancy_plotsettings(style=style)\n",
    "        fig, axes = plt.subplots(nrows=nrows, figsize=(figWidthsTwoColDict[style], nrows * figHeightsDict[style]),\n",
    "                                sharex=True)\n",
    "        if nrows == 1:\n",
    "            axes = [axes]\n",
    "    \n",
    "        for idx1, num_orbits in enumerate(list_num_orbits_to_exclude_before_merger):\n",
    "            for idx2, method in enumerate(methods):\n",
    "                try:\n",
    "                    tref_out, ecc_vec, mean_ano_vec, gwecc_obj = measure_eccentricity(\n",
    "                        tref_in=tref_vec,\n",
    "                        dataDict=dataDict,\n",
    "                        method=method, \n",
    "                        return_gwecc_object=True,\n",
    "                        extra_kwargs={\"debug\": False,\n",
    "                                     \"num_orbits_to_exclude_before_merger\": num_orbits})\n",
    "                    gwecc_obj.plot_measured_ecc(fig, axes[idx1], add_vline_at_tref=True if idx2 == 0 else False,\n",
    "                                                **{\"label\": method,\n",
    "                                                   \"c\": colorsDict[method],\n",
    "                                                   \"ls\": lstyles[method],\n",
    "                                                   \"lw\": lwidths[method]})\n",
    "                except Exception:\n",
    "                    print(f\"{method} Fails for {w} with {num_orbits}.\")\n",
    "            axes[idx1].text(0.99, 0.95, f\"number of orbits = {num_orbits:.1f}\", transform=axes[idx1].transAxes,\n",
    "                           ha=\"right\", va=\"top\", fontsize=10)\n",
    "            axes[idx1].set_xlabel(\"\")\n",
    "        axes[0].legend(labelspacing=0.2, handlelength=1, fontsize=10)\n",
    "        axes[-1].set_xlabel(r\"$t$ [$M$]\")\n",
    "        q = dataDict[\"params_dict\"][\"q\"]\n",
    "        ecc = dataDict[\"params_dict\"][\"ecc\"]\n",
    "        chi1 = np.around(dataDict[\"params_dict\"][\"chi1\"], 5)\n",
    "        chi2 = np.around(dataDict[\"params_dict\"][\"chi2\"], 5)\n",
    "        title = (f\"case {idx}/{len(sxs_nr_waveforms)-1}, \"\n",
    "                f\"$q$={q:.1f}, \"\n",
    "                f\"$\\chi_{1}$={chi1}, \"\n",
    "                f\"$\\chi_{2}$={chi2}, \"\n",
    "                f\"ecc={ecc:.2f}\\n\"\n",
    "                f\"id={w}\")\n",
    "        axes[0].set_title(title, ha=\"center\", fontsize=10)\n",
    "        fig.set_tight_layout(True)\n",
    "        fig.savefig(pp,format='pdf')\n",
    "        plt.close(fig)\n",
    "    pp.close()"
   ]
  },
  {
   "cell_type": "code",
   "execution_count": 9,
   "id": "51fb7e98-fc60-4463-8a84-ec4f3c85a1d8",
   "metadata": {
    "collapsed": true,
    "jupyter": {
     "outputs_hidden": true
    },
    "tags": []
   },
   "outputs": [
    {
     "name": "stdout",
     "output_type": "stream",
     "text": [
      "===== 0/61 ===== BBH_SHK_q10_e01_D14.5_Res3.h5 =====\n"
     ]
    },
    {
     "name": "stderr",
     "output_type": "stream",
     "text": [
      "/home1/md.shaikh/Eccentricity/notebook/../gw_eccentricity/eccDefinition.py:465: UserWarning: Encountered negative eccentricity.\n",
      "  warnings.warn(\"Encountered negative eccentricity.\")\n"
     ]
    },
    {
     "name": "stdout",
     "output_type": "stream",
     "text": [
      "===== 1/61 ===== BBH_SHK_q10_e01_D16_Res3.h5 =====\n"
     ]
    },
    {
     "name": "stderr",
     "output_type": "stream",
     "text": [
      "/home1/md.shaikh/Eccentricity/notebook/../gw_eccentricity/eccDefinition.py:465: UserWarning: Encountered negative eccentricity.\n",
      "  warnings.warn(\"Encountered negative eccentricity.\")\n"
     ]
    },
    {
     "name": "stdout",
     "output_type": "stream",
     "text": [
      "===== 2/61 ===== BBH_SHK_q10_e05_D28_Res3.h5 =====\n",
      "===== 3/61 ===== BBH_SHK_q10_e05_D30_Res3.h5 =====\n",
      "===== 4/61 ===== BBH_SHK_q10_e07_D45_Res3.h5 =====\n",
      "===== 5/61 ===== BBH_SHK_q1_0_0_e01_D16_FastDyn_Res3.h5 =====\n"
     ]
    },
    {
     "name": "stderr",
     "output_type": "stream",
     "text": [
      "/home1/md.shaikh/Eccentricity/notebook/../gw_eccentricity/eccDefinition.py:465: UserWarning: Encountered negative eccentricity.\n",
      "  warnings.warn(\"Encountered negative eccentricity.\")\n",
      "/home1/md.shaikh/Eccentricity/notebook/../gw_eccentricity/eccDefinition.py:465: UserWarning: Encountered negative eccentricity.\n",
      "  warnings.warn(\"Encountered negative eccentricity.\")\n"
     ]
    },
    {
     "name": "stdout",
     "output_type": "stream",
     "text": [
      "===== 6/61 ===== BBH_SHK_q1_0_0_e01_D20_Res3.h5 =====\n",
      "===== 7/61 ===== BBH_SHK_q1_0_0_e02_D18_Res3.h5 =====\n",
      "===== 8/61 ===== BBH_SHK_q1_0_0_e02_D22_Res3.h5 =====\n",
      "===== 9/61 ===== BBH_SHK_q1_0_0_e05_D34_Res3.h5 =====\n",
      "===== 10/61 ===== BBH_SHK_q1_e035_D26_Res3.h5 =====\n",
      "===== 11/61 ===== BBH_SHK_q1_e04_D28_Res3.h5 =====\n",
      "===== 12/61 ===== BBH_SHK_q1_e07_D45_Res3.h5 =====\n",
      "===== 13/61 ===== BBH_SHK_q1_e08_D60_Res3.h5 =====\n",
      "===== 14/61 ===== BBH_SHK_q1_e095_D65_Res3.h5 =====\n",
      "===== 15/61 ===== BBH_SHK_q1_e09_D70_Res3.h5 =====\n",
      "===== 16/61 ===== BBH_SHK_q2_e01_D18_Res3.h5 =====\n",
      "===== 17/61 ===== BBH_SHK_q2_e02_D20_Res3.h5 =====\n",
      "===== 18/61 ===== BBH_SHK_q2_e035_D26_Res3.h5 =====\n",
      "===== 19/61 ===== BBH_SHK_q2_e04_D28_Res3.h5 =====\n",
      "===== 20/61 ===== BBH_SHK_q2_e05_D34_Res3.h5 =====\n",
      "===== 21/61 ===== BBH_SHK_q2_e08_D60_Res3.h5 =====\n",
      "===== 22/61 ===== BBH_SHK_q2_e095_D65_Res3.h5 =====\n",
      "===== 23/61 ===== BBH_SHK_q3_e01_D22_Res3.h5 =====\n",
      "===== 24/61 ===== BBH_SHK_q3_e025_D22_Res3.h5 =====\n",
      "===== 25/61 ===== BBH_SHK_q3_e02_D17.3_Res3.h5 =====\n",
      "===== 26/61 ===== BBH_SHK_q3_e02_D22_Res3.h5 =====\n",
      "===== 27/61 ===== BBH_SHK_q3_e035_D26_Res3.h5 =====\n",
      "===== 28/61 ===== BBH_SHK_q3_e035_D28_Res3.h5 =====\n",
      "===== 29/61 ===== BBH_SHK_q3_e03_D28_Res3.h5 =====\n",
      "===== 30/61 ===== BBH_SHK_q3_e04_D28_Res3.h5 =====\n",
      "===== 31/61 ===== BBH_SHK_q3_e08_D55_Res3.h5 =====\n",
      "===== 32/61 ===== BBH_SHK_q4_0_0_e05_D34_Res3.h5 =====\n",
      "===== 33/61 ===== BBH_SHK_q4_e01_D18_Res3.h5 =====\n",
      "===== 34/61 ===== BBH_SHK_q4_e02_D20_Res3.h5 =====\n",
      "===== 35/61 ===== BBH_SHK_q4_e035_D26_Res3.h5 =====\n",
      "===== 36/61 ===== BBH_SHK_q4_e04_D28_Res3.h5 =====\n",
      "===== 37/61 ===== BBH_SHK_q4_e08_D55_Res3.h5 =====\n",
      "===== 38/61 ===== BBH_SHK_q4_e095_D65_Res3.h5 =====\n",
      "===== 39/61 ===== BBH_SHK_q6_e01_D18_Res3.h5 =====\n",
      "===== 40/61 ===== BBH_SHK_q6_e02_D20_Res3.h5 =====\n",
      "===== 41/61 ===== BBH_SHK_q6_e035_D26_Res3.h5 =====\n",
      "===== 42/61 ===== BBH_SHK_q6_e04_D28_Res3.h5 =====\n",
      "===== 43/61 ===== BBH_SHK_q6_e05_D34_Res3.h5 =====\n",
      "===== 44/61 ===== BBH_SHK_q6_e07_D45_Res3.h5 =====\n",
      "===== 45/61 ===== BBH_SHK_q6_e095_D65_Res3.h5 =====\n"
     ]
    },
    {
     "name": "stderr",
     "output_type": "stream",
     "text": [
      "/home1/md.shaikh/Eccentricity/notebook/../gw_eccentricity/eccDefinition.py:662: UserWarning: Number of pericenters and number of apocenters differ by 2. This implies that pericenters and apocenters are not appearing alternately.\n",
      "  warnings.warn(\n",
      "/home1/md.shaikh/Eccentricity/notebook/../gw_eccentricity/eccDefinition.py:608: UserWarning: At least a pair of apocenters are too close. Minimum orbital phase diff is 0.06482649065037549. Times of occurrences are [-8529.88525572]\n",
      "  warnings.warn(f\"At least a pair of {extrema_type} are too close.\"\n",
      "/home1/md.shaikh/Eccentricity/notebook/../gw_eccentricity/eccDefinition.py:614: UserWarning: Phase shift closer to pi than 2 pi detected.\n",
      "  warnings.warn(\"Phase shift closer to pi than 2 pi detected.\")\n",
      "/home1/md.shaikh/Eccentricity/notebook/../gw_eccentricity/eccDefinition.py:626: UserWarning: At least a pair of apocenters are too far. Maximum orbital phase diff is 12.080737406418478. Times of occurrences are [-7548.98525572]\n",
      "  warnings.warn(f\"At least a pair of {extrema_type} are too far.\"\n",
      "/home1/md.shaikh/Eccentricity/notebook/../gw_eccentricity/eccDefinition.py:706: UserWarning: There is at least one instance where pericenters and apocenters do not appear alternately.\n",
      "  warnings.warn(\n",
      "/home1/md.shaikh/Eccentricity/notebook/../gw_eccentricity/eccDefinition.py:608: UserWarning: At least a pair of apocenters are too close. Minimum orbital phase diff is 0.06482649065037549. Times of occurrences are [-8529.88525572]\n",
      "  warnings.warn(f\"At least a pair of {extrema_type} are too close.\"\n",
      "/home1/md.shaikh/Eccentricity/notebook/../gw_eccentricity/eccDefinition.py:614: UserWarning: Phase shift closer to pi than 2 pi detected.\n",
      "  warnings.warn(\"Phase shift closer to pi than 2 pi detected.\")\n",
      "/home1/md.shaikh/Eccentricity/notebook/../gw_eccentricity/eccDefinition.py:626: UserWarning: At least a pair of apocenters are too far. Maximum orbital phase diff is 10.488922614795442. Times of occurrences are [-7548.98525572]\n",
      "  warnings.warn(f\"At least a pair of {extrema_type} are too far.\"\n",
      "/home1/md.shaikh/Eccentricity/notebook/../gw_eccentricity/eccDefinition.py:662: UserWarning: Number of pericenters and number of apocenters differ by 2. This implies that pericenters and apocenters are not appearing alternately.\n",
      "  warnings.warn(\n",
      "/home1/md.shaikh/Eccentricity/notebook/../gw_eccentricity/eccDefinition.py:608: UserWarning: At least a pair of apocenters are too close. Minimum orbital phase diff is 0.06482649065037549. Times of occurrences are [-8529.88525572]\n",
      "  warnings.warn(f\"At least a pair of {extrema_type} are too close.\"\n",
      "/home1/md.shaikh/Eccentricity/notebook/../gw_eccentricity/eccDefinition.py:614: UserWarning: Phase shift closer to pi than 2 pi detected.\n",
      "  warnings.warn(\"Phase shift closer to pi than 2 pi detected.\")\n",
      "/home1/md.shaikh/Eccentricity/notebook/../gw_eccentricity/eccDefinition.py:626: UserWarning: At least a pair of apocenters are too far. Maximum orbital phase diff is 10.488922614795442. Times of occurrences are [-7548.98525572]\n",
      "  warnings.warn(f\"At least a pair of {extrema_type} are too far.\"\n",
      "/home1/md.shaikh/Eccentricity/notebook/../gw_eccentricity/eccDefinition.py:706: UserWarning: There is at least one instance where pericenters and apocenters do not appear alternately.\n",
      "  warnings.warn(\n",
      "/home1/md.shaikh/Eccentricity/notebook/../gw_eccentricity/eccDefinition.py:608: UserWarning: At least a pair of apocenters are too close. Minimum orbital phase diff is 0.06482649065037549. Times of occurrences are [-8529.88525572]\n",
      "  warnings.warn(f\"At least a pair of {extrema_type} are too close.\"\n",
      "/home1/md.shaikh/Eccentricity/notebook/../gw_eccentricity/eccDefinition.py:614: UserWarning: Phase shift closer to pi than 2 pi detected.\n",
      "  warnings.warn(\"Phase shift closer to pi than 2 pi detected.\")\n",
      "/home1/md.shaikh/Eccentricity/notebook/../gw_eccentricity/eccDefinition.py:626: UserWarning: At least a pair of apocenters are too far. Maximum orbital phase diff is 9.813341256526655. Times of occurrences are [-7548.98525572]\n",
      "  warnings.warn(f\"At least a pair of {extrema_type} are too far.\"\n"
     ]
    },
    {
     "name": "stdout",
     "output_type": "stream",
     "text": [
      "===== 46/61 ===== BBH_SHK_q8_e01_D14.5_Res3.h5 =====\n"
     ]
    },
    {
     "name": "stderr",
     "output_type": "stream",
     "text": [
      "/home1/md.shaikh/Eccentricity/notebook/../gw_eccentricity/eccDefinition.py:465: UserWarning: Encountered negative eccentricity.\n",
      "  warnings.warn(\"Encountered negative eccentricity.\")\n",
      "/home1/md.shaikh/Eccentricity/notebook/../gw_eccentricity/eccDefinition.py:706: UserWarning: There is at least one instance where pericenters and apocenters do not appear alternately.\n",
      "  warnings.warn(\n",
      "/home1/md.shaikh/Eccentricity/notebook/../gw_eccentricity/eccDefinition.py:706: UserWarning: There is at least one instance where pericenters and apocenters do not appear alternately.\n",
      "  warnings.warn(\n"
     ]
    },
    {
     "name": "stdout",
     "output_type": "stream",
     "text": [
      "===== 47/61 ===== BBH_SHK_q8_e02_D20_Res3.h5 =====\n",
      "===== 48/61 ===== BBH_SHK_q8_e035_D26_Res3.h5 =====\n",
      "===== 49/61 ===== BBH_SHK_q8_e04_D28_Res3.h5 =====\n",
      "===== 50/61 ===== BBH_SHK_q8_e05_D28_Res3.h5 =====\n",
      "===== 51/61 ===== BBH_SKS_q1.1_-0.4_-0.7_e025_D22_Res3.h5 =====\n",
      "===== 52/61 ===== BBH_SKS_q1.1_-0.4_-0.7_e02_D22_Res3.h5 =====\n",
      "===== 53/61 ===== BBH_SKS_q1.1_-0.4_-0.7_e04_D28_Res3.h5 =====\n",
      "===== 54/61 ===== BBH_SKS_q1.1_-0.4_-0.7_e05_D28_Res3.h5 =====\n"
     ]
    },
    {
     "name": "stderr",
     "output_type": "stream",
     "text": [
      "/home1/md.shaikh/Eccentricity/notebook/../gw_eccentricity/eccDefinition.py:706: UserWarning: There is at least one instance where pericenters and apocenters do not appear alternately.\n",
      "  warnings.warn(\n",
      "/home1/md.shaikh/Eccentricity/notebook/../gw_eccentricity/eccDefinition.py:608: UserWarning: At least a pair of apocenters are too close. Minimum orbital phase diff is 1.1591288090788865. Times of occurrences are [-957.45101901]\n",
      "  warnings.warn(f\"At least a pair of {extrema_type} are too close.\"\n",
      "/home1/md.shaikh/Eccentricity/notebook/../gw_eccentricity/eccDefinition.py:614: UserWarning: Phase shift closer to pi than 2 pi detected.\n",
      "  warnings.warn(\"Phase shift closer to pi than 2 pi detected.\")\n",
      "/home1/md.shaikh/Eccentricity/notebook/../gw_eccentricity/eccDefinition.py:626: UserWarning: At least a pair of apocenters are too far. Maximum orbital phase diff is 10.431235960467184. Times of occurrences are [-606.05101901]\n",
      "  warnings.warn(f\"At least a pair of {extrema_type} are too far.\"\n"
     ]
    },
    {
     "name": "stdout",
     "output_type": "stream",
     "text": [
      "FrequencyFits Fails for BBH_SKS_q1.1_-0.4_-0.7_e05_D28_Res3.h5 with 3.\n",
      "ResidualAmplitude Fails for BBH_SKS_q1.1_-0.4_-0.7_e05_D28_Res3.h5 with 4.\n",
      "ResidualFrequency Fails for BBH_SKS_q1.1_-0.4_-0.7_e05_D28_Res3.h5 with 4.\n",
      "FrequencyFits Fails for BBH_SKS_q1.1_-0.4_-0.7_e05_D28_Res3.h5 with 4.\n",
      "===== 55/61 ===== BBH_SKS_q10_-0.75_0_e05_D28_Res3.h5 =====\n"
     ]
    },
    {
     "name": "stderr",
     "output_type": "stream",
     "text": [
      "/home1/md.shaikh/Eccentricity/notebook/../gw_eccentricity/eccDefinition.py:706: UserWarning: There is at least one instance where pericenters and apocenters do not appear alternately.\n",
      "  warnings.warn(\n",
      "/home1/md.shaikh/Eccentricity/notebook/../gw_eccentricity/eccDefinition.py:626: UserWarning: At least a pair of pericenters are too far. Maximum orbital phase diff is 11.59306482111566. Times of occurrences are [-2484.22753189]\n",
      "  warnings.warn(f\"At least a pair of {extrema_type} are too far.\"\n",
      "/home1/md.shaikh/Eccentricity/notebook/../gw_eccentricity/eccDefinition.py:608: UserWarning: At least a pair of apocenters are too close. Minimum orbital phase diff is 1.6221724874718646. Times of occurrences are [-3195.3275319]\n",
      "  warnings.warn(f\"At least a pair of {extrema_type} are too close.\"\n",
      "/home1/md.shaikh/Eccentricity/notebook/../gw_eccentricity/eccDefinition.py:614: UserWarning: Phase shift closer to pi than 2 pi detected.\n",
      "  warnings.warn(\"Phase shift closer to pi than 2 pi detected.\")\n",
      "/home1/md.shaikh/Eccentricity/notebook/../gw_eccentricity/eccDefinition.py:626: UserWarning: At least a pair of apocenters are too far. Maximum orbital phase diff is 12.41695599016991. Times of occurrences are [-2758.32753189]\n",
      "  warnings.warn(f\"At least a pair of {extrema_type} are too far.\"\n",
      "/home1/md.shaikh/Eccentricity/notebook/../gw_eccentricity/eccDefinition.py:706: UserWarning: There is at least one instance where pericenters and apocenters do not appear alternately.\n",
      "  warnings.warn(\n",
      "/home1/md.shaikh/Eccentricity/notebook/../gw_eccentricity/eccDefinition.py:626: UserWarning: At least a pair of pericenters are too far. Maximum orbital phase diff is 11.59306482111566. Times of occurrences are [-2484.32753189]\n",
      "  warnings.warn(f\"At least a pair of {extrema_type} are too far.\"\n",
      "/home1/md.shaikh/Eccentricity/notebook/../gw_eccentricity/eccDefinition.py:608: UserWarning: At least a pair of apocenters are too close. Minimum orbital phase diff is 1.6221724874718646. Times of occurrences are [-3195.3275319]\n",
      "  warnings.warn(f\"At least a pair of {extrema_type} are too close.\"\n",
      "/home1/md.shaikh/Eccentricity/notebook/../gw_eccentricity/eccDefinition.py:614: UserWarning: Phase shift closer to pi than 2 pi detected.\n",
      "  warnings.warn(\"Phase shift closer to pi than 2 pi detected.\")\n",
      "/home1/md.shaikh/Eccentricity/notebook/../gw_eccentricity/eccDefinition.py:626: UserWarning: At least a pair of apocenters are too far. Maximum orbital phase diff is 12.41695599016991. Times of occurrences are [-2758.32753189]\n",
      "  warnings.warn(f\"At least a pair of {extrema_type} are too far.\"\n",
      "/home1/md.shaikh/Eccentricity/notebook/../gw_eccentricity/eccDefinition.py:706: UserWarning: There is at least one instance where pericenters and apocenters do not appear alternately.\n",
      "  warnings.warn(\n",
      "/home1/md.shaikh/Eccentricity/notebook/../gw_eccentricity/eccDefinition.py:626: UserWarning: At least a pair of pericenters are too far. Maximum orbital phase diff is 11.59306482111566. Times of occurrences are [-2484.32753189]\n",
      "  warnings.warn(f\"At least a pair of {extrema_type} are too far.\"\n",
      "/home1/md.shaikh/Eccentricity/notebook/../gw_eccentricity/eccDefinition.py:608: UserWarning: At least a pair of apocenters are too close. Minimum orbital phase diff is 1.6221724874718646. Times of occurrences are [-3195.3275319]\n",
      "  warnings.warn(f\"At least a pair of {extrema_type} are too close.\"\n",
      "/home1/md.shaikh/Eccentricity/notebook/../gw_eccentricity/eccDefinition.py:614: UserWarning: Phase shift closer to pi than 2 pi detected.\n",
      "  warnings.warn(\"Phase shift closer to pi than 2 pi detected.\")\n",
      "/home1/md.shaikh/Eccentricity/notebook/../gw_eccentricity/eccDefinition.py:626: UserWarning: At least a pair of apocenters are too far. Maximum orbital phase diff is 11.222048629181494. Times of occurrences are [-2758.32753189]\n",
      "  warnings.warn(f\"At least a pair of {extrema_type} are too far.\"\n",
      "/home1/md.shaikh/Eccentricity/notebook/../gw_eccentricity/eccDefinition.py:706: UserWarning: There is at least one instance where pericenters and apocenters do not appear alternately.\n",
      "  warnings.warn(\n",
      "/home1/md.shaikh/Eccentricity/notebook/../gw_eccentricity/eccDefinition.py:626: UserWarning: At least a pair of pericenters are too far. Maximum orbital phase diff is 10.843597363573622. Times of occurrences are [-2484.42753189]\n",
      "  warnings.warn(f\"At least a pair of {extrema_type} are too far.\"\n",
      "/home1/md.shaikh/Eccentricity/notebook/../gw_eccentricity/eccDefinition.py:608: UserWarning: At least a pair of apocenters are too close. Minimum orbital phase diff is 1.6221724874718646. Times of occurrences are [-3195.3275319]\n",
      "  warnings.warn(f\"At least a pair of {extrema_type} are too close.\"\n",
      "/home1/md.shaikh/Eccentricity/notebook/../gw_eccentricity/eccDefinition.py:614: UserWarning: Phase shift closer to pi than 2 pi detected.\n",
      "  warnings.warn(\"Phase shift closer to pi than 2 pi detected.\")\n",
      "/home1/md.shaikh/Eccentricity/notebook/../gw_eccentricity/eccDefinition.py:626: UserWarning: At least a pair of apocenters are too far. Maximum orbital phase diff is 11.235488821824177. Times of occurrences are [-2758.42753189]\n",
      "  warnings.warn(f\"At least a pair of {extrema_type} are too far.\"\n"
     ]
    },
    {
     "name": "stdout",
     "output_type": "stream",
     "text": [
      "===== 56/61 ===== BBH_SKS_q1_-0.75_-0.75_e07_D45_Res3.h5 =====\n"
     ]
    },
    {
     "name": "stderr",
     "output_type": "stream",
     "text": [
      "/home1/md.shaikh/Eccentricity/notebook/../gw_eccentricity/eccDefinition.py:706: UserWarning: There is at least one instance where pericenters and apocenters do not appear alternately.\n",
      "  warnings.warn(\n",
      "/home1/md.shaikh/Eccentricity/notebook/../gw_eccentricity/eccDefinition.py:608: UserWarning: At least a pair of apocenters are too close. Minimum orbital phase diff is 0.10341630755333853. Times of occurrences are [-6760.44010759]\n",
      "  warnings.warn(f\"At least a pair of {extrema_type} are too close.\"\n",
      "/home1/md.shaikh/Eccentricity/notebook/../gw_eccentricity/eccDefinition.py:614: UserWarning: Phase shift closer to pi than 2 pi detected.\n",
      "  warnings.warn(\"Phase shift closer to pi than 2 pi detected.\")\n",
      "/home1/md.shaikh/Eccentricity/notebook/../gw_eccentricity/eccDefinition.py:626: UserWarning: At least a pair of apocenters are too far. Maximum orbital phase diff is 10.322872333901685. Times of occurrences are [-5878.54010759]\n",
      "  warnings.warn(f\"At least a pair of {extrema_type} are too far.\"\n",
      "/home1/md.shaikh/Eccentricity/notebook/../gw_eccentricity/eccDefinition.py:706: UserWarning: There is at least one instance where pericenters and apocenters do not appear alternately.\n",
      "  warnings.warn(\n",
      "/home1/md.shaikh/Eccentricity/notebook/../gw_eccentricity/eccDefinition.py:608: UserWarning: At least a pair of apocenters are too close. Minimum orbital phase diff is 0.10341630755333853. Times of occurrences are [-6760.44010759]\n",
      "  warnings.warn(f\"At least a pair of {extrema_type} are too close.\"\n",
      "/home1/md.shaikh/Eccentricity/notebook/../gw_eccentricity/eccDefinition.py:614: UserWarning: Phase shift closer to pi than 2 pi detected.\n",
      "  warnings.warn(\"Phase shift closer to pi than 2 pi detected.\")\n",
      "/home1/md.shaikh/Eccentricity/notebook/../gw_eccentricity/eccDefinition.py:626: UserWarning: At least a pair of apocenters are too far. Maximum orbital phase diff is 10.322872333901685. Times of occurrences are [-5878.54010759]\n",
      "  warnings.warn(f\"At least a pair of {extrema_type} are too far.\"\n",
      "/home1/md.shaikh/Eccentricity/notebook/../gw_eccentricity/eccDefinition.py:662: UserWarning: Number of pericenters and number of apocenters differ by 2. This implies that pericenters and apocenters are not appearing alternately.\n",
      "  warnings.warn(\n",
      "/home1/md.shaikh/Eccentricity/notebook/../gw_eccentricity/eccDefinition.py:608: UserWarning: At least a pair of apocenters are too close. Minimum orbital phase diff is 0.10341630755333853. Times of occurrences are [-6760.44010759]\n",
      "  warnings.warn(f\"At least a pair of {extrema_type} are too close.\"\n",
      "/home1/md.shaikh/Eccentricity/notebook/../gw_eccentricity/eccDefinition.py:614: UserWarning: Phase shift closer to pi than 2 pi detected.\n",
      "  warnings.warn(\"Phase shift closer to pi than 2 pi detected.\")\n",
      "/home1/md.shaikh/Eccentricity/notebook/../gw_eccentricity/eccDefinition.py:626: UserWarning: At least a pair of apocenters are too far. Maximum orbital phase diff is 10.322872333901685. Times of occurrences are [-5878.54010759]\n",
      "  warnings.warn(f\"At least a pair of {extrema_type} are too far.\"\n",
      "/home1/md.shaikh/Eccentricity/notebook/../gw_eccentricity/eccDefinition.py:662: UserWarning: Number of pericenters and number of apocenters differ by 2. This implies that pericenters and apocenters are not appearing alternately.\n",
      "  warnings.warn(\n",
      "/home1/md.shaikh/Eccentricity/notebook/../gw_eccentricity/eccDefinition.py:608: UserWarning: At least a pair of apocenters are too close. Minimum orbital phase diff is 0.10341630755333853. Times of occurrences are [-6760.44010759]\n",
      "  warnings.warn(f\"At least a pair of {extrema_type} are too close.\"\n",
      "/home1/md.shaikh/Eccentricity/notebook/../gw_eccentricity/eccDefinition.py:614: UserWarning: Phase shift closer to pi than 2 pi detected.\n",
      "  warnings.warn(\"Phase shift closer to pi than 2 pi detected.\")\n",
      "/home1/md.shaikh/Eccentricity/notebook/../gw_eccentricity/eccDefinition.py:626: UserWarning: At least a pair of apocenters are too far. Maximum orbital phase diff is 9.529481835449403. Times of occurrences are [-5878.54010759]\n",
      "  warnings.warn(f\"At least a pair of {extrema_type} are too far.\"\n"
     ]
    },
    {
     "name": "stdout",
     "output_type": "stream",
     "text": [
      "===== 57/61 ===== BBH_SKS_q1_0.75_0.75_e07_D45_Res3.h5 =====\n"
     ]
    },
    {
     "name": "stderr",
     "output_type": "stream",
     "text": [
      "/home1/md.shaikh/Eccentricity/notebook/../gw_eccentricity/eccDefinition.py:662: UserWarning: Number of pericenters and number of apocenters differ by 3. This implies that pericenters and apocenters are not appearing alternately.\n",
      "  warnings.warn(\n",
      "/home1/md.shaikh/Eccentricity/notebook/../gw_eccentricity/eccDefinition.py:614: UserWarning: Phase shift closer to pi than 2 pi detected.\n",
      "  warnings.warn(\"Phase shift closer to pi than 2 pi detected.\")\n",
      "/home1/md.shaikh/Eccentricity/notebook/../gw_eccentricity/eccDefinition.py:626: UserWarning: At least a pair of pericenters are too far. Maximum orbital phase diff is 9.767205115201222. Times of occurrences are [-14198.36024439]\n",
      "  warnings.warn(f\"At least a pair of {extrema_type} are too far.\"\n",
      "/home1/md.shaikh/Eccentricity/notebook/../gw_eccentricity/eccDefinition.py:608: UserWarning: At least a pair of apocenters are too close. Minimum orbital phase diff is 0.12293185642160154. Times of occurrences are [-15652.36024437 -14638.66024438 -13712.56024439]\n",
      "  warnings.warn(f\"At least a pair of {extrema_type} are too close.\"\n",
      "/home1/md.shaikh/Eccentricity/notebook/../gw_eccentricity/eccDefinition.py:626: UserWarning: At least a pair of apocenters are too far. Maximum orbital phase diff is 8.866196038321362. Times of occurrences are [-14670.96024438 -13743.26024439 -12835.06024441]\n",
      "  warnings.warn(f\"At least a pair of {extrema_type} are too far.\"\n",
      "/home1/md.shaikh/Eccentricity/notebook/../gw_eccentricity/eccDefinition.py:662: UserWarning: Number of pericenters and number of apocenters differ by 4. This implies that pericenters and apocenters are not appearing alternately.\n",
      "  warnings.warn(\n",
      "/home1/md.shaikh/Eccentricity/notebook/../gw_eccentricity/eccDefinition.py:614: UserWarning: Phase shift closer to pi than 2 pi detected.\n",
      "  warnings.warn(\"Phase shift closer to pi than 2 pi detected.\")\n",
      "/home1/md.shaikh/Eccentricity/notebook/../gw_eccentricity/eccDefinition.py:626: UserWarning: At least a pair of pericenters are too far. Maximum orbital phase diff is 9.325072684949447. Times of occurrences are [-14198.46024439]\n",
      "  warnings.warn(f\"At least a pair of {extrema_type} are too far.\"\n",
      "/home1/md.shaikh/Eccentricity/notebook/../gw_eccentricity/eccDefinition.py:608: UserWarning: At least a pair of apocenters are too close. Minimum orbital phase diff is 0.013777804472912436. Times of occurrences are [-15652.36024437 -14642.26024438 -14638.66024438 -13712.56024439]\n",
      "  warnings.warn(f\"At least a pair of {extrema_type} are too close.\"\n",
      "/home1/md.shaikh/Eccentricity/notebook/../gw_eccentricity/eccDefinition.py:626: UserWarning: At least a pair of apocenters are too far. Maximum orbital phase diff is 9.859317494088657. Times of occurrences are [-14664.56024438 -13726.76024439 -12835.06024441]\n",
      "  warnings.warn(f\"At least a pair of {extrema_type} are too far.\"\n",
      "/home1/md.shaikh/Eccentricity/notebook/../gw_eccentricity/eccDefinition.py:662: UserWarning: Number of pericenters and number of apocenters differ by 3. This implies that pericenters and apocenters are not appearing alternately.\n",
      "  warnings.warn(\n",
      "/home1/md.shaikh/Eccentricity/notebook/../gw_eccentricity/eccDefinition.py:614: UserWarning: Phase shift closer to pi than 2 pi detected.\n",
      "  warnings.warn(\"Phase shift closer to pi than 2 pi detected.\")\n",
      "/home1/md.shaikh/Eccentricity/notebook/../gw_eccentricity/eccDefinition.py:626: UserWarning: At least a pair of pericenters are too far. Maximum orbital phase diff is 9.767205115201222. Times of occurrences are [-14198.36024439]\n",
      "  warnings.warn(f\"At least a pair of {extrema_type} are too far.\"\n",
      "/home1/md.shaikh/Eccentricity/notebook/../gw_eccentricity/eccDefinition.py:608: UserWarning: At least a pair of apocenters are too close. Minimum orbital phase diff is 0.12293185642160154. Times of occurrences are [-15652.36024437 -14638.66024438 -13712.56024439]\n",
      "  warnings.warn(f\"At least a pair of {extrema_type} are too close.\"\n",
      "/home1/md.shaikh/Eccentricity/notebook/../gw_eccentricity/eccDefinition.py:626: UserWarning: At least a pair of apocenters are too far. Maximum orbital phase diff is 8.866196038321362. Times of occurrences are [-14670.96024438 -13743.26024439 -12835.06024441]\n",
      "  warnings.warn(f\"At least a pair of {extrema_type} are too far.\"\n",
      "/home1/md.shaikh/Eccentricity/notebook/../gw_eccentricity/eccDefinition.py:662: UserWarning: Number of pericenters and number of apocenters differ by 3. This implies that pericenters and apocenters are not appearing alternately.\n",
      "  warnings.warn(\n",
      "/home1/md.shaikh/Eccentricity/notebook/../gw_eccentricity/eccDefinition.py:614: UserWarning: Phase shift closer to pi than 2 pi detected.\n",
      "  warnings.warn(\"Phase shift closer to pi than 2 pi detected.\")\n",
      "/home1/md.shaikh/Eccentricity/notebook/../gw_eccentricity/eccDefinition.py:626: UserWarning: At least a pair of pericenters are too far. Maximum orbital phase diff is 9.325072684949447. Times of occurrences are [-14198.46024439]\n",
      "  warnings.warn(f\"At least a pair of {extrema_type} are too far.\"\n",
      "/home1/md.shaikh/Eccentricity/notebook/../gw_eccentricity/eccDefinition.py:608: UserWarning: At least a pair of apocenters are too close. Minimum orbital phase diff is 0.013777804472912436. Times of occurrences are [-15652.36024437 -14642.26024438 -14638.66024438 -13712.56024439]\n",
      "  warnings.warn(f\"At least a pair of {extrema_type} are too close.\"\n",
      "/home1/md.shaikh/Eccentricity/notebook/../gw_eccentricity/eccDefinition.py:626: UserWarning: At least a pair of apocenters are too far. Maximum orbital phase diff is 9.001354470241182. Times of occurrences are [-14664.56024438 -13726.76024439 -12835.06024441]\n",
      "  warnings.warn(f\"At least a pair of {extrema_type} are too far.\"\n",
      "/home1/md.shaikh/Eccentricity/notebook/../gw_eccentricity/eccDefinition.py:662: UserWarning: Number of pericenters and number of apocenters differ by 3. This implies that pericenters and apocenters are not appearing alternately.\n",
      "  warnings.warn(\n",
      "/home1/md.shaikh/Eccentricity/notebook/../gw_eccentricity/eccDefinition.py:614: UserWarning: Phase shift closer to pi than 2 pi detected.\n",
      "  warnings.warn(\"Phase shift closer to pi than 2 pi detected.\")\n",
      "/home1/md.shaikh/Eccentricity/notebook/../gw_eccentricity/eccDefinition.py:626: UserWarning: At least a pair of pericenters are too far. Maximum orbital phase diff is 8.866498320634747. Times of occurrences are [-14198.36024439]\n",
      "  warnings.warn(f\"At least a pair of {extrema_type} are too far.\"\n",
      "/home1/md.shaikh/Eccentricity/notebook/../gw_eccentricity/eccDefinition.py:608: UserWarning: At least a pair of apocenters are too close. Minimum orbital phase diff is 0.12293185642160154. Times of occurrences are [-15652.36024437 -14638.66024438 -13712.56024439]\n",
      "  warnings.warn(f\"At least a pair of {extrema_type} are too close.\"\n",
      "/home1/md.shaikh/Eccentricity/notebook/../gw_eccentricity/eccDefinition.py:626: UserWarning: At least a pair of apocenters are too far. Maximum orbital phase diff is 8.771024234122507. Times of occurrences are [-14670.96024438 -13743.26024439 -12835.06024441]\n",
      "  warnings.warn(f\"At least a pair of {extrema_type} are too far.\"\n",
      "/home1/md.shaikh/Eccentricity/notebook/../gw_eccentricity/eccDefinition.py:662: UserWarning: Number of pericenters and number of apocenters differ by 4. This implies that pericenters and apocenters are not appearing alternately.\n",
      "  warnings.warn(\n",
      "/home1/md.shaikh/Eccentricity/notebook/../gw_eccentricity/eccDefinition.py:614: UserWarning: Phase shift closer to pi than 2 pi detected.\n",
      "  warnings.warn(\"Phase shift closer to pi than 2 pi detected.\")\n",
      "/home1/md.shaikh/Eccentricity/notebook/../gw_eccentricity/eccDefinition.py:626: UserWarning: At least a pair of pericenters are too far. Maximum orbital phase diff is 8.76589222448709. Times of occurrences are [-14198.46024439]\n",
      "  warnings.warn(f\"At least a pair of {extrema_type} are too far.\"\n",
      "/home1/md.shaikh/Eccentricity/notebook/../gw_eccentricity/eccDefinition.py:608: UserWarning: At least a pair of apocenters are too close. Minimum orbital phase diff is 0.013777804472912436. Times of occurrences are [-15652.36024437 -14642.26024438 -14638.66024438 -13712.56024439]\n",
      "  warnings.warn(f\"At least a pair of {extrema_type} are too close.\"\n",
      "/home1/md.shaikh/Eccentricity/notebook/../gw_eccentricity/eccDefinition.py:626: UserWarning: At least a pair of apocenters are too far. Maximum orbital phase diff is 9.001354470241182. Times of occurrences are [-14664.56024438 -13726.76024439 -12835.06024441]\n",
      "  warnings.warn(f\"At least a pair of {extrema_type} are too far.\"\n",
      "/home1/md.shaikh/Eccentricity/notebook/../gw_eccentricity/eccDefinition.py:662: UserWarning: Number of pericenters and number of apocenters differ by 2. This implies that pericenters and apocenters are not appearing alternately.\n",
      "  warnings.warn(\n",
      "/home1/md.shaikh/Eccentricity/notebook/../gw_eccentricity/eccDefinition.py:614: UserWarning: Phase shift closer to pi than 2 pi detected.\n",
      "  warnings.warn(\"Phase shift closer to pi than 2 pi detected.\")\n",
      "/home1/md.shaikh/Eccentricity/notebook/../gw_eccentricity/eccDefinition.py:626: UserWarning: At least a pair of pericenters are too far. Maximum orbital phase diff is 8.866498320634747. Times of occurrences are [-14198.36024439]\n",
      "  warnings.warn(f\"At least a pair of {extrema_type} are too far.\"\n",
      "/home1/md.shaikh/Eccentricity/notebook/../gw_eccentricity/eccDefinition.py:608: UserWarning: At least a pair of apocenters are too close. Minimum orbital phase diff is 0.12293185642160154. Times of occurrences are [-15652.36024437 -14638.66024438 -13712.56024439]\n",
      "  warnings.warn(f\"At least a pair of {extrema_type} are too close.\"\n",
      "/home1/md.shaikh/Eccentricity/notebook/../gw_eccentricity/eccDefinition.py:626: UserWarning: At least a pair of apocenters are too far. Maximum orbital phase diff is 8.502583736315898. Times of occurrences are [-14670.96024438 -13743.26024439 -12835.06024441]\n",
      "  warnings.warn(f\"At least a pair of {extrema_type} are too far.\"\n",
      "/home1/md.shaikh/Eccentricity/notebook/../gw_eccentricity/eccDefinition.py:662: UserWarning: Number of pericenters and number of apocenters differ by 3. This implies that pericenters and apocenters are not appearing alternately.\n",
      "  warnings.warn(\n",
      "/home1/md.shaikh/Eccentricity/notebook/../gw_eccentricity/eccDefinition.py:614: UserWarning: Phase shift closer to pi than 2 pi detected.\n",
      "  warnings.warn(\"Phase shift closer to pi than 2 pi detected.\")\n",
      "/home1/md.shaikh/Eccentricity/notebook/../gw_eccentricity/eccDefinition.py:626: UserWarning: At least a pair of pericenters are too far. Maximum orbital phase diff is 8.76589222448709. Times of occurrences are [-14198.46024439]\n",
      "  warnings.warn(f\"At least a pair of {extrema_type} are too far.\"\n",
      "/home1/md.shaikh/Eccentricity/notebook/../gw_eccentricity/eccDefinition.py:608: UserWarning: At least a pair of apocenters are too close. Minimum orbital phase diff is 0.013777804472912436. Times of occurrences are [-15652.36024437 -14642.26024438 -14638.66024438 -13712.56024439]\n",
      "  warnings.warn(f\"At least a pair of {extrema_type} are too close.\"\n",
      "/home1/md.shaikh/Eccentricity/notebook/../gw_eccentricity/eccDefinition.py:626: UserWarning: At least a pair of apocenters are too far. Maximum orbital phase diff is 8.591469247847641. Times of occurrences are [-14664.56024438 -13726.76024439 -12835.06024441]\n",
      "  warnings.warn(f\"At least a pair of {extrema_type} are too far.\"\n"
     ]
    },
    {
     "name": "stdout",
     "output_type": "stream",
     "text": [
      "===== 58/61 ===== BBH_SKS_q1_0.9_0.9_e05_D28_Res3.h5 =====\n"
     ]
    },
    {
     "name": "stderr",
     "output_type": "stream",
     "text": [
      "/home1/md.shaikh/Eccentricity/notebook/../gw_eccentricity/eccDefinition.py:662: UserWarning: Number of pericenters and number of apocenters differ by 2. This implies that pericenters and apocenters are not appearing alternately.\n",
      "  warnings.warn(\n",
      "/home1/md.shaikh/Eccentricity/notebook/../gw_eccentricity/eccDefinition.py:608: UserWarning: At least a pair of apocenters are too close. Minimum orbital phase diff is 0.22959956968837147. Times of occurrences are [-9601.72655884]\n",
      "  warnings.warn(f\"At least a pair of {extrema_type} are too close.\"\n",
      "/home1/md.shaikh/Eccentricity/notebook/../gw_eccentricity/eccDefinition.py:614: UserWarning: Phase shift closer to pi than 2 pi detected.\n",
      "  warnings.warn(\"Phase shift closer to pi than 2 pi detected.\")\n",
      "/home1/md.shaikh/Eccentricity/notebook/../gw_eccentricity/eccDefinition.py:626: UserWarning: At least a pair of apocenters are too far. Maximum orbital phase diff is 8.534371615420554. Times of occurrences are [-8986.92655883]\n",
      "  warnings.warn(f\"At least a pair of {extrema_type} are too far.\"\n",
      "/home1/md.shaikh/Eccentricity/notebook/../gw_eccentricity/eccDefinition.py:706: UserWarning: There is at least one instance where pericenters and apocenters do not appear alternately.\n",
      "  warnings.warn(\n",
      "/home1/md.shaikh/Eccentricity/notebook/../gw_eccentricity/eccDefinition.py:608: UserWarning: At least a pair of apocenters are too close. Minimum orbital phase diff is 0.2303273746176835. Times of occurrences are [-9601.62655884]\n",
      "  warnings.warn(f\"At least a pair of {extrema_type} are too close.\"\n",
      "/home1/md.shaikh/Eccentricity/notebook/../gw_eccentricity/eccDefinition.py:614: UserWarning: Phase shift closer to pi than 2 pi detected.\n",
      "  warnings.warn(\"Phase shift closer to pi than 2 pi detected.\")\n",
      "/home1/md.shaikh/Eccentricity/notebook/../gw_eccentricity/eccDefinition.py:626: UserWarning: At least a pair of apocenters are too far. Maximum orbital phase diff is 9.661288404523845. Times of occurrences are [-8986.92655883]\n",
      "  warnings.warn(f\"At least a pair of {extrema_type} are too far.\"\n",
      "/home1/md.shaikh/Eccentricity/notebook/../gw_eccentricity/eccDefinition.py:662: UserWarning: Number of pericenters and number of apocenters differ by 2. This implies that pericenters and apocenters are not appearing alternately.\n",
      "  warnings.warn(\n",
      "/home1/md.shaikh/Eccentricity/notebook/../gw_eccentricity/eccDefinition.py:608: UserWarning: At least a pair of apocenters are too close. Minimum orbital phase diff is 0.22959956968837147. Times of occurrences are [-9601.72655884]\n",
      "  warnings.warn(f\"At least a pair of {extrema_type} are too close.\"\n",
      "/home1/md.shaikh/Eccentricity/notebook/../gw_eccentricity/eccDefinition.py:614: UserWarning: Phase shift closer to pi than 2 pi detected.\n",
      "  warnings.warn(\"Phase shift closer to pi than 2 pi detected.\")\n",
      "/home1/md.shaikh/Eccentricity/notebook/../gw_eccentricity/eccDefinition.py:626: UserWarning: At least a pair of apocenters are too far. Maximum orbital phase diff is 8.534371615420554. Times of occurrences are [-8986.92655883]\n",
      "  warnings.warn(f\"At least a pair of {extrema_type} are too far.\"\n",
      "/home1/md.shaikh/Eccentricity/notebook/../gw_eccentricity/eccDefinition.py:662: UserWarning: Number of pericenters and number of apocenters differ by 2. This implies that pericenters and apocenters are not appearing alternately.\n",
      "  warnings.warn(\n",
      "/home1/md.shaikh/Eccentricity/notebook/../gw_eccentricity/eccDefinition.py:608: UserWarning: At least a pair of apocenters are too close. Minimum orbital phase diff is 0.2303273746176835. Times of occurrences are [-9601.62655884]\n",
      "  warnings.warn(f\"At least a pair of {extrema_type} are too close.\"\n",
      "/home1/md.shaikh/Eccentricity/notebook/../gw_eccentricity/eccDefinition.py:614: UserWarning: Phase shift closer to pi than 2 pi detected.\n",
      "  warnings.warn(\"Phase shift closer to pi than 2 pi detected.\")\n",
      "/home1/md.shaikh/Eccentricity/notebook/../gw_eccentricity/eccDefinition.py:626: UserWarning: At least a pair of apocenters are too far. Maximum orbital phase diff is 9.661288404523845. Times of occurrences are [-8986.92655883]\n",
      "  warnings.warn(f\"At least a pair of {extrema_type} are too far.\"\n",
      "/home1/md.shaikh/Eccentricity/notebook/../gw_eccentricity/eccDefinition.py:662: UserWarning: Number of pericenters and number of apocenters differ by 2. This implies that pericenters and apocenters are not appearing alternately.\n",
      "  warnings.warn(\n",
      "/home1/md.shaikh/Eccentricity/notebook/../gw_eccentricity/eccDefinition.py:608: UserWarning: At least a pair of apocenters are too close. Minimum orbital phase diff is 0.22959956968837147. Times of occurrences are [-9601.72655884]\n",
      "  warnings.warn(f\"At least a pair of {extrema_type} are too close.\"\n",
      "/home1/md.shaikh/Eccentricity/notebook/../gw_eccentricity/eccDefinition.py:614: UserWarning: Phase shift closer to pi than 2 pi detected.\n",
      "  warnings.warn(\"Phase shift closer to pi than 2 pi detected.\")\n",
      "/home1/md.shaikh/Eccentricity/notebook/../gw_eccentricity/eccDefinition.py:626: UserWarning: At least a pair of apocenters are too far. Maximum orbital phase diff is 8.534371615420554. Times of occurrences are [-8986.92655883]\n",
      "  warnings.warn(f\"At least a pair of {extrema_type} are too far.\"\n",
      "/home1/md.shaikh/Eccentricity/notebook/../gw_eccentricity/eccDefinition.py:662: UserWarning: Number of pericenters and number of apocenters differ by 2. This implies that pericenters and apocenters are not appearing alternately.\n",
      "  warnings.warn(\n",
      "/home1/md.shaikh/Eccentricity/notebook/../gw_eccentricity/eccDefinition.py:608: UserWarning: At least a pair of apocenters are too close. Minimum orbital phase diff is 0.2303273746176835. Times of occurrences are [-9601.62655884]\n",
      "  warnings.warn(f\"At least a pair of {extrema_type} are too close.\"\n",
      "/home1/md.shaikh/Eccentricity/notebook/../gw_eccentricity/eccDefinition.py:614: UserWarning: Phase shift closer to pi than 2 pi detected.\n",
      "  warnings.warn(\"Phase shift closer to pi than 2 pi detected.\")\n",
      "/home1/md.shaikh/Eccentricity/notebook/../gw_eccentricity/eccDefinition.py:626: UserWarning: At least a pair of apocenters are too far. Maximum orbital phase diff is 8.847034368095876. Times of occurrences are [-8986.92655883]\n",
      "  warnings.warn(f\"At least a pair of {extrema_type} are too far.\"\n",
      "/home1/md.shaikh/Eccentricity/notebook/../gw_eccentricity/eccDefinition.py:706: UserWarning: There is at least one instance where pericenters and apocenters do not appear alternately.\n",
      "  warnings.warn(\n",
      "/home1/md.shaikh/Eccentricity/notebook/../gw_eccentricity/eccDefinition.py:608: UserWarning: At least a pair of apocenters are too close. Minimum orbital phase diff is 0.22959956968837147. Times of occurrences are [-9601.72655884]\n",
      "  warnings.warn(f\"At least a pair of {extrema_type} are too close.\"\n",
      "/home1/md.shaikh/Eccentricity/notebook/../gw_eccentricity/eccDefinition.py:614: UserWarning: Phase shift closer to pi than 2 pi detected.\n",
      "  warnings.warn(\"Phase shift closer to pi than 2 pi detected.\")\n",
      "/home1/md.shaikh/Eccentricity/notebook/../gw_eccentricity/eccDefinition.py:626: UserWarning: At least a pair of apocenters are too far. Maximum orbital phase diff is 8.355225545108055. Times of occurrences are [-8986.92655883]\n",
      "  warnings.warn(f\"At least a pair of {extrema_type} are too far.\"\n",
      "/home1/md.shaikh/Eccentricity/notebook/../gw_eccentricity/eccDefinition.py:706: UserWarning: There is at least one instance where pericenters and apocenters do not appear alternately.\n",
      "  warnings.warn(\n",
      "/home1/md.shaikh/Eccentricity/notebook/../gw_eccentricity/eccDefinition.py:608: UserWarning: At least a pair of apocenters are too close. Minimum orbital phase diff is 0.2303273746176835. Times of occurrences are [-9601.62655884]\n",
      "  warnings.warn(f\"At least a pair of {extrema_type} are too close.\"\n",
      "/home1/md.shaikh/Eccentricity/notebook/../gw_eccentricity/eccDefinition.py:614: UserWarning: Phase shift closer to pi than 2 pi detected.\n",
      "  warnings.warn(\"Phase shift closer to pi than 2 pi detected.\")\n",
      "/home1/md.shaikh/Eccentricity/notebook/../gw_eccentricity/eccDefinition.py:626: UserWarning: At least a pair of apocenters are too far. Maximum orbital phase diff is 8.485933087866186. Times of occurrences are [-8986.92655883]\n",
      "  warnings.warn(f\"At least a pair of {extrema_type} are too far.\"\n"
     ]
    },
    {
     "name": "stdout",
     "output_type": "stream",
     "text": [
      "===== 59/61 ===== BBH_SKS_q1_e09_D130_DoNotControlLEqualsOneShape_AdjustSphereCExtents_Res3.h5 =====\n"
     ]
    },
    {
     "name": "stderr",
     "output_type": "stream",
     "text": [
      "/home1/md.shaikh/Eccentricity/notebook/../gw_eccentricity/eccDefinition.py:662: UserWarning: Number of pericenters and number of apocenters differ by 2. This implies that pericenters and apocenters are not appearing alternately.\n",
      "  warnings.warn(\n",
      "/home1/md.shaikh/Eccentricity/notebook/../gw_eccentricity/eccDefinition.py:608: UserWarning: At least a pair of apocenters are too close. Minimum orbital phase diff is 0.037841946546084415. Times of occurrences are [-6717.42448362]\n",
      "  warnings.warn(f\"At least a pair of {extrema_type} are too close.\"\n",
      "/home1/md.shaikh/Eccentricity/notebook/../gw_eccentricity/eccDefinition.py:614: UserWarning: Phase shift closer to pi than 2 pi detected.\n",
      "  warnings.warn(\"Phase shift closer to pi than 2 pi detected.\")\n",
      "/home1/md.shaikh/Eccentricity/notebook/../gw_eccentricity/eccDefinition.py:626: UserWarning: At least a pair of apocenters are too far. Maximum orbital phase diff is 10.795491125821371. Times of occurrences are [-5445.52448361]\n",
      "  warnings.warn(f\"At least a pair of {extrema_type} are too far.\"\n",
      "/home1/md.shaikh/Eccentricity/notebook/../gw_eccentricity/eccDefinition.py:662: UserWarning: Number of pericenters and number of apocenters differ by 2. This implies that pericenters and apocenters are not appearing alternately.\n",
      "  warnings.warn(\n",
      "/home1/md.shaikh/Eccentricity/notebook/../gw_eccentricity/eccDefinition.py:608: UserWarning: At least a pair of apocenters are too close. Minimum orbital phase diff is 0.046695711333047285. Times of occurrences are [-6691.82448362]\n",
      "  warnings.warn(f\"At least a pair of {extrema_type} are too close.\"\n",
      "/home1/md.shaikh/Eccentricity/notebook/../gw_eccentricity/eccDefinition.py:614: UserWarning: Phase shift closer to pi than 2 pi detected.\n",
      "  warnings.warn(\"Phase shift closer to pi than 2 pi detected.\")\n",
      "/home1/md.shaikh/Eccentricity/notebook/../gw_eccentricity/eccDefinition.py:626: UserWarning: At least a pair of apocenters are too far. Maximum orbital phase diff is 11.910452782288658. Times of occurrences are [-5401.32448361]\n",
      "  warnings.warn(f\"At least a pair of {extrema_type} are too far.\"\n",
      "/home1/md.shaikh/Eccentricity/notebook/../gw_eccentricity/eccDefinition.py:662: UserWarning: Number of pericenters and number of apocenters differ by 2. This implies that pericenters and apocenters are not appearing alternately.\n",
      "  warnings.warn(\n",
      "/home1/md.shaikh/Eccentricity/notebook/../gw_eccentricity/eccDefinition.py:608: UserWarning: At least a pair of apocenters are too close. Minimum orbital phase diff is 0.037841946546084415. Times of occurrences are [-6717.42448362]\n",
      "  warnings.warn(f\"At least a pair of {extrema_type} are too close.\"\n",
      "/home1/md.shaikh/Eccentricity/notebook/../gw_eccentricity/eccDefinition.py:614: UserWarning: Phase shift closer to pi than 2 pi detected.\n",
      "  warnings.warn(\"Phase shift closer to pi than 2 pi detected.\")\n",
      "/home1/md.shaikh/Eccentricity/notebook/../gw_eccentricity/eccDefinition.py:626: UserWarning: At least a pair of apocenters are too far. Maximum orbital phase diff is 9.656964610003868. Times of occurrences are [-5445.52448361]\n",
      "  warnings.warn(f\"At least a pair of {extrema_type} are too far.\"\n",
      "/home1/md.shaikh/Eccentricity/notebook/../gw_eccentricity/eccDefinition.py:706: UserWarning: There is at least one instance where pericenters and apocenters do not appear alternately.\n",
      "  warnings.warn(\n",
      "/home1/md.shaikh/Eccentricity/notebook/../gw_eccentricity/eccDefinition.py:608: UserWarning: At least a pair of apocenters are too close. Minimum orbital phase diff is 0.046695711333047285. Times of occurrences are [-6691.82448362]\n",
      "  warnings.warn(f\"At least a pair of {extrema_type} are too close.\"\n",
      "/home1/md.shaikh/Eccentricity/notebook/../gw_eccentricity/eccDefinition.py:614: UserWarning: Phase shift closer to pi than 2 pi detected.\n",
      "  warnings.warn(\"Phase shift closer to pi than 2 pi detected.\")\n",
      "/home1/md.shaikh/Eccentricity/notebook/../gw_eccentricity/eccDefinition.py:626: UserWarning: At least a pair of apocenters are too far. Maximum orbital phase diff is 9.834198952894099. Times of occurrences are [-5401.32448361]\n",
      "  warnings.warn(f\"At least a pair of {extrema_type} are too far.\"\n",
      "/home1/md.shaikh/Eccentricity/notebook/../gw_eccentricity/eccDefinition.py:706: UserWarning: There is at least one instance where pericenters and apocenters do not appear alternately.\n",
      "  warnings.warn(\n",
      "/home1/md.shaikh/Eccentricity/notebook/../gw_eccentricity/eccDefinition.py:608: UserWarning: At least a pair of apocenters are too close. Minimum orbital phase diff is 0.037841946546084415. Times of occurrences are [-6717.42448362]\n",
      "  warnings.warn(f\"At least a pair of {extrema_type} are too close.\"\n",
      "/home1/md.shaikh/Eccentricity/notebook/../gw_eccentricity/eccDefinition.py:614: UserWarning: Phase shift closer to pi than 2 pi detected.\n",
      "  warnings.warn(\"Phase shift closer to pi than 2 pi detected.\")\n",
      "/home1/md.shaikh/Eccentricity/notebook/../gw_eccentricity/eccDefinition.py:626: UserWarning: At least a pair of apocenters are too far. Maximum orbital phase diff is 9.050007763263523. Times of occurrences are [-5445.52448361]\n",
      "  warnings.warn(f\"At least a pair of {extrema_type} are too far.\"\n",
      "/home1/md.shaikh/Eccentricity/notebook/../gw_eccentricity/eccDefinition.py:706: UserWarning: There is at least one instance where pericenters and apocenters do not appear alternately.\n",
      "  warnings.warn(\n",
      "/home1/md.shaikh/Eccentricity/notebook/../gw_eccentricity/eccDefinition.py:608: UserWarning: At least a pair of apocenters are too close. Minimum orbital phase diff is 0.046695711333047285. Times of occurrences are [-6691.82448362]\n",
      "  warnings.warn(f\"At least a pair of {extrema_type} are too close.\"\n",
      "/home1/md.shaikh/Eccentricity/notebook/../gw_eccentricity/eccDefinition.py:614: UserWarning: Phase shift closer to pi than 2 pi detected.\n",
      "  warnings.warn(\"Phase shift closer to pi than 2 pi detected.\")\n",
      "/home1/md.shaikh/Eccentricity/notebook/../gw_eccentricity/eccDefinition.py:626: UserWarning: At least a pair of apocenters are too far. Maximum orbital phase diff is 9.089377132120248. Times of occurrences are [-5401.32448361]\n",
      "  warnings.warn(f\"At least a pair of {extrema_type} are too far.\"\n",
      "/home1/md.shaikh/Eccentricity/notebook/../gw_eccentricity/eccDefinition.py:662: UserWarning: Number of pericenters and number of apocenters differ by 2. This implies that pericenters and apocenters are not appearing alternately.\n",
      "  warnings.warn(\n",
      "/home1/md.shaikh/Eccentricity/notebook/../gw_eccentricity/eccDefinition.py:608: UserWarning: At least a pair of apocenters are too close. Minimum orbital phase diff is 0.037841946546084415. Times of occurrences are [-6717.42448362]\n",
      "  warnings.warn(f\"At least a pair of {extrema_type} are too close.\"\n",
      "/home1/md.shaikh/Eccentricity/notebook/../gw_eccentricity/eccDefinition.py:614: UserWarning: Phase shift closer to pi than 2 pi detected.\n",
      "  warnings.warn(\"Phase shift closer to pi than 2 pi detected.\")\n",
      "/home1/md.shaikh/Eccentricity/notebook/../gw_eccentricity/eccDefinition.py:626: UserWarning: At least a pair of apocenters are too far. Maximum orbital phase diff is 9.050007763263523. Times of occurrences are [-5445.52448361]\n",
      "  warnings.warn(f\"At least a pair of {extrema_type} are too far.\"\n",
      "/home1/md.shaikh/Eccentricity/notebook/../gw_eccentricity/eccDefinition.py:662: UserWarning: Number of pericenters and number of apocenters differ by 2. This implies that pericenters and apocenters are not appearing alternately.\n",
      "  warnings.warn(\n",
      "/home1/md.shaikh/Eccentricity/notebook/../gw_eccentricity/eccDefinition.py:608: UserWarning: At least a pair of apocenters are too close. Minimum orbital phase diff is 0.046695711333047285. Times of occurrences are [-6691.82448362]\n",
      "  warnings.warn(f\"At least a pair of {extrema_type} are too close.\"\n",
      "/home1/md.shaikh/Eccentricity/notebook/../gw_eccentricity/eccDefinition.py:614: UserWarning: Phase shift closer to pi than 2 pi detected.\n",
      "  warnings.warn(\"Phase shift closer to pi than 2 pi detected.\")\n",
      "/home1/md.shaikh/Eccentricity/notebook/../gw_eccentricity/eccDefinition.py:626: UserWarning: At least a pair of apocenters are too far. Maximum orbital phase diff is 9.089377132120248. Times of occurrences are [-5401.32448361]\n",
      "  warnings.warn(f\"At least a pair of {extrema_type} are too far.\"\n"
     ]
    },
    {
     "name": "stdout",
     "output_type": "stream",
     "text": [
      "===== 60/61 ===== BBH_SKS_q1_e09_D130_SKS_DoNotControlLEqualsOneShape_Res3.h5 =====\n"
     ]
    },
    {
     "name": "stderr",
     "output_type": "stream",
     "text": [
      "/home1/md.shaikh/Eccentricity/notebook/../gw_eccentricity/eccDefinition.py:706: UserWarning: There is at least one instance where pericenters and apocenters do not appear alternately.\n",
      "  warnings.warn(\n",
      "/home1/md.shaikh/Eccentricity/notebook/../gw_eccentricity/eccDefinition.py:614: UserWarning: Phase shift closer to pi than 2 pi detected.\n",
      "  warnings.warn(\"Phase shift closer to pi than 2 pi detected.\")\n",
      "/home1/md.shaikh/Eccentricity/notebook/../gw_eccentricity/eccDefinition.py:626: UserWarning: At least a pair of pericenters are too far. Maximum orbital phase diff is 10.386346482137355. Times of occurrences are [-6100.49718692]\n",
      "  warnings.warn(f\"At least a pair of {extrema_type} are too far.\"\n",
      "/home1/md.shaikh/Eccentricity/notebook/../gw_eccentricity/eccDefinition.py:706: UserWarning: There is at least one instance where pericenters and apocenters do not appear alternately.\n",
      "  warnings.warn(\n",
      "/home1/md.shaikh/Eccentricity/notebook/../gw_eccentricity/eccDefinition.py:608: UserWarning: At least a pair of pericenters are too close. Minimum orbital phase diff is 0.1742451910025693. Times of occurrences are [-8240.99718693 -8122.29718693]\n",
      "  warnings.warn(f\"At least a pair of {extrema_type} are too close.\"\n",
      "/home1/md.shaikh/Eccentricity/notebook/../gw_eccentricity/eccDefinition.py:614: UserWarning: Phase shift closer to pi than 2 pi detected.\n",
      "  warnings.warn(\"Phase shift closer to pi than 2 pi detected.\")\n",
      "/home1/md.shaikh/Eccentricity/notebook/../gw_eccentricity/eccDefinition.py:626: UserWarning: At least a pair of pericenters are too far. Maximum orbital phase diff is 10.485920475057071. Times of occurrences are [-7541.49718693 -6101.99718692]\n",
      "  warnings.warn(f\"At least a pair of {extrema_type} are too far.\"\n",
      "/home1/md.shaikh/Eccentricity/notebook/../gw_eccentricity/eccDefinition.py:608: UserWarning: At least a pair of apocenters are too close. Minimum orbital phase diff is 0.5389590935493125. Times of occurrences are [-8601.09718693 -8219.09718693]\n",
      "  warnings.warn(f\"At least a pair of {extrema_type} are too close.\"\n",
      "/home1/md.shaikh/Eccentricity/notebook/../gw_eccentricity/eccDefinition.py:626: UserWarning: At least a pair of apocenters are too far. Maximum orbital phase diff is 10.633050523949521. Times of occurrences are [-6817.99718692]\n",
      "  warnings.warn(f\"At least a pair of {extrema_type} are too far.\"\n",
      "/home1/md.shaikh/Eccentricity/notebook/../gw_eccentricity/eccDefinition.py:706: UserWarning: There is at least one instance where pericenters and apocenters do not appear alternately.\n",
      "  warnings.warn(\n",
      "/home1/md.shaikh/Eccentricity/notebook/../gw_eccentricity/eccDefinition.py:608: UserWarning: At least a pair of pericenters are too close. Minimum orbital phase diff is 0.1877445133927722. Times of occurrences are [-8122.59718693]\n",
      "  warnings.warn(f\"At least a pair of {extrema_type} are too close.\"\n",
      "/home1/md.shaikh/Eccentricity/notebook/../gw_eccentricity/eccDefinition.py:614: UserWarning: Phase shift closer to pi than 2 pi detected.\n",
      "  warnings.warn(\"Phase shift closer to pi than 2 pi detected.\")\n",
      "/home1/md.shaikh/Eccentricity/notebook/../gw_eccentricity/eccDefinition.py:626: UserWarning: At least a pair of pericenters are too far. Maximum orbital phase diff is 10.323597855094732. Times of occurrences are [-7541.59718693 -6101.99718692]\n",
      "  warnings.warn(f\"At least a pair of {extrema_type} are too far.\"\n",
      "/home1/md.shaikh/Eccentricity/notebook/../gw_eccentricity/eccDefinition.py:608: UserWarning: At least a pair of apocenters are too close. Minimum orbital phase diff is 0.07782259844291417. Times of occurrences are [-8218.99718693 -6741.69718692]\n",
      "  warnings.warn(f\"At least a pair of {extrema_type} are too close.\"\n",
      "/home1/md.shaikh/Eccentricity/notebook/../gw_eccentricity/eccDefinition.py:626: UserWarning: At least a pair of apocenters are too far. Maximum orbital phase diff is 11.62541158756467. Times of occurrences are [-6783.69718692 -5473.59718692]\n",
      "  warnings.warn(f\"At least a pair of {extrema_type} are too far.\"\n",
      "/home1/md.shaikh/Eccentricity/notebook/../gw_eccentricity/eccDefinition.py:706: UserWarning: There is at least one instance where pericenters and apocenters do not appear alternately.\n",
      "  warnings.warn(\n",
      "/home1/md.shaikh/Eccentricity/notebook/../gw_eccentricity/eccDefinition.py:614: UserWarning: Phase shift closer to pi than 2 pi detected.\n",
      "  warnings.warn(\"Phase shift closer to pi than 2 pi detected.\")\n",
      "/home1/md.shaikh/Eccentricity/notebook/../gw_eccentricity/eccDefinition.py:626: UserWarning: At least a pair of pericenters are too far. Maximum orbital phase diff is 10.386346482137355. Times of occurrences are [-6100.49718692]\n",
      "  warnings.warn(f\"At least a pair of {extrema_type} are too far.\"\n",
      "/home1/md.shaikh/Eccentricity/notebook/../gw_eccentricity/eccDefinition.py:706: UserWarning: There is at least one instance where pericenters and apocenters do not appear alternately.\n",
      "  warnings.warn(\n",
      "/home1/md.shaikh/Eccentricity/notebook/../gw_eccentricity/eccDefinition.py:608: UserWarning: At least a pair of pericenters are too close. Minimum orbital phase diff is 0.1742451910025693. Times of occurrences are [-8240.99718693 -8122.29718693]\n",
      "  warnings.warn(f\"At least a pair of {extrema_type} are too close.\"\n",
      "/home1/md.shaikh/Eccentricity/notebook/../gw_eccentricity/eccDefinition.py:614: UserWarning: Phase shift closer to pi than 2 pi detected.\n",
      "  warnings.warn(\"Phase shift closer to pi than 2 pi detected.\")\n",
      "/home1/md.shaikh/Eccentricity/notebook/../gw_eccentricity/eccDefinition.py:626: UserWarning: At least a pair of pericenters are too far. Maximum orbital phase diff is 10.485920475057071. Times of occurrences are [-7541.49718693 -6101.99718692]\n",
      "  warnings.warn(f\"At least a pair of {extrema_type} are too far.\"\n",
      "/home1/md.shaikh/Eccentricity/notebook/../gw_eccentricity/eccDefinition.py:608: UserWarning: At least a pair of apocenters are too close. Minimum orbital phase diff is 0.5389590935493125. Times of occurrences are [-8601.09718693 -8219.09718693]\n",
      "  warnings.warn(f\"At least a pair of {extrema_type} are too close.\"\n",
      "/home1/md.shaikh/Eccentricity/notebook/../gw_eccentricity/eccDefinition.py:626: UserWarning: At least a pair of apocenters are too far. Maximum orbital phase diff is 9.57766489063691. Times of occurrences are [-6817.99718692]\n",
      "  warnings.warn(f\"At least a pair of {extrema_type} are too far.\"\n",
      "/home1/md.shaikh/Eccentricity/notebook/../gw_eccentricity/eccDefinition.py:706: UserWarning: There is at least one instance where pericenters and apocenters do not appear alternately.\n",
      "  warnings.warn(\n",
      "/home1/md.shaikh/Eccentricity/notebook/../gw_eccentricity/eccDefinition.py:608: UserWarning: At least a pair of pericenters are too close. Minimum orbital phase diff is 0.1877445133927722. Times of occurrences are [-8122.59718693]\n",
      "  warnings.warn(f\"At least a pair of {extrema_type} are too close.\"\n",
      "/home1/md.shaikh/Eccentricity/notebook/../gw_eccentricity/eccDefinition.py:614: UserWarning: Phase shift closer to pi than 2 pi detected.\n",
      "  warnings.warn(\"Phase shift closer to pi than 2 pi detected.\")\n",
      "/home1/md.shaikh/Eccentricity/notebook/../gw_eccentricity/eccDefinition.py:626: UserWarning: At least a pair of pericenters are too far. Maximum orbital phase diff is 10.323597855094732. Times of occurrences are [-7541.59718693 -6101.99718692]\n",
      "  warnings.warn(f\"At least a pair of {extrema_type} are too far.\"\n",
      "/home1/md.shaikh/Eccentricity/notebook/../gw_eccentricity/eccDefinition.py:608: UserWarning: At least a pair of apocenters are too close. Minimum orbital phase diff is 0.07782259844291417. Times of occurrences are [-8218.99718693 -6741.69718692]\n",
      "  warnings.warn(f\"At least a pair of {extrema_type} are too close.\"\n",
      "/home1/md.shaikh/Eccentricity/notebook/../gw_eccentricity/eccDefinition.py:626: UserWarning: At least a pair of apocenters are too far. Maximum orbital phase diff is 9.71029876882588. Times of occurrences are [-6783.69718692 -5473.59718692]\n",
      "  warnings.warn(f\"At least a pair of {extrema_type} are too far.\"\n",
      "/home1/md.shaikh/Eccentricity/notebook/../gw_eccentricity/eccDefinition.py:706: UserWarning: There is at least one instance where pericenters and apocenters do not appear alternately.\n",
      "  warnings.warn(\n",
      "/home1/md.shaikh/Eccentricity/notebook/../gw_eccentricity/eccDefinition.py:614: UserWarning: Phase shift closer to pi than 2 pi detected.\n",
      "  warnings.warn(\"Phase shift closer to pi than 2 pi detected.\")\n",
      "/home1/md.shaikh/Eccentricity/notebook/../gw_eccentricity/eccDefinition.py:626: UserWarning: At least a pair of pericenters are too far. Maximum orbital phase diff is 9.329549864011454. Times of occurrences are [-6100.49718692]\n",
      "  warnings.warn(f\"At least a pair of {extrema_type} are too far.\"\n",
      "/home1/md.shaikh/Eccentricity/notebook/../gw_eccentricity/eccDefinition.py:706: UserWarning: There is at least one instance where pericenters and apocenters do not appear alternately.\n",
      "  warnings.warn(\n",
      "/home1/md.shaikh/Eccentricity/notebook/../gw_eccentricity/eccDefinition.py:608: UserWarning: At least a pair of pericenters are too close. Minimum orbital phase diff is 0.1742451910025693. Times of occurrences are [-8240.99718693 -8122.29718693]\n",
      "  warnings.warn(f\"At least a pair of {extrema_type} are too close.\"\n",
      "/home1/md.shaikh/Eccentricity/notebook/../gw_eccentricity/eccDefinition.py:614: UserWarning: Phase shift closer to pi than 2 pi detected.\n",
      "  warnings.warn(\"Phase shift closer to pi than 2 pi detected.\")\n",
      "/home1/md.shaikh/Eccentricity/notebook/../gw_eccentricity/eccDefinition.py:626: UserWarning: At least a pair of pericenters are too far. Maximum orbital phase diff is 9.349028059541084. Times of occurrences are [-7541.49718693 -6101.99718692]\n",
      "  warnings.warn(f\"At least a pair of {extrema_type} are too far.\"\n",
      "/home1/md.shaikh/Eccentricity/notebook/../gw_eccentricity/eccDefinition.py:608: UserWarning: At least a pair of apocenters are too close. Minimum orbital phase diff is 0.5389590935493125. Times of occurrences are [-8601.09718693 -8219.09718693]\n",
      "  warnings.warn(f\"At least a pair of {extrema_type} are too close.\"\n",
      "/home1/md.shaikh/Eccentricity/notebook/../gw_eccentricity/eccDefinition.py:626: UserWarning: At least a pair of apocenters are too far. Maximum orbital phase diff is 9.57766489063691. Times of occurrences are [-6817.99718692]\n",
      "  warnings.warn(f\"At least a pair of {extrema_type} are too far.\"\n",
      "/home1/md.shaikh/Eccentricity/notebook/../gw_eccentricity/eccDefinition.py:706: UserWarning: There is at least one instance where pericenters and apocenters do not appear alternately.\n",
      "  warnings.warn(\n",
      "/home1/md.shaikh/Eccentricity/notebook/../gw_eccentricity/eccDefinition.py:608: UserWarning: At least a pair of pericenters are too close. Minimum orbital phase diff is 0.1877445133927722. Times of occurrences are [-8122.59718693]\n",
      "  warnings.warn(f\"At least a pair of {extrema_type} are too close.\"\n",
      "/home1/md.shaikh/Eccentricity/notebook/../gw_eccentricity/eccDefinition.py:614: UserWarning: Phase shift closer to pi than 2 pi detected.\n",
      "  warnings.warn(\"Phase shift closer to pi than 2 pi detected.\")\n",
      "/home1/md.shaikh/Eccentricity/notebook/../gw_eccentricity/eccDefinition.py:626: UserWarning: At least a pair of pericenters are too far. Maximum orbital phase diff is 9.325143074780058. Times of occurrences are [-7541.59718693 -6101.99718692]\n",
      "  warnings.warn(f\"At least a pair of {extrema_type} are too far.\"\n",
      "/home1/md.shaikh/Eccentricity/notebook/../gw_eccentricity/eccDefinition.py:608: UserWarning: At least a pair of apocenters are too close. Minimum orbital phase diff is 0.07782259844291417. Times of occurrences are [-8218.99718693 -6741.69718692]\n",
      "  warnings.warn(f\"At least a pair of {extrema_type} are too close.\"\n",
      "/home1/md.shaikh/Eccentricity/notebook/../gw_eccentricity/eccDefinition.py:626: UserWarning: At least a pair of apocenters are too far. Maximum orbital phase diff is 9.71029876882588. Times of occurrences are [-6783.69718692 -5473.59718692]\n",
      "  warnings.warn(f\"At least a pair of {extrema_type} are too far.\"\n",
      "/home1/md.shaikh/Eccentricity/notebook/../gw_eccentricity/eccDefinition.py:706: UserWarning: There is at least one instance where pericenters and apocenters do not appear alternately.\n",
      "  warnings.warn(\n",
      "/home1/md.shaikh/Eccentricity/notebook/../gw_eccentricity/eccDefinition.py:614: UserWarning: Phase shift closer to pi than 2 pi detected.\n",
      "  warnings.warn(\"Phase shift closer to pi than 2 pi detected.\")\n",
      "/home1/md.shaikh/Eccentricity/notebook/../gw_eccentricity/eccDefinition.py:626: UserWarning: At least a pair of pericenters are too far. Maximum orbital phase diff is 8.869482760990103. Times of occurrences are [-6100.49718692]\n",
      "  warnings.warn(f\"At least a pair of {extrema_type} are too far.\"\n",
      "/home1/md.shaikh/Eccentricity/notebook/../gw_eccentricity/eccDefinition.py:706: UserWarning: There is at least one instance where pericenters and apocenters do not appear alternately.\n",
      "  warnings.warn(\n",
      "/home1/md.shaikh/Eccentricity/notebook/../gw_eccentricity/eccDefinition.py:608: UserWarning: At least a pair of pericenters are too close. Minimum orbital phase diff is 0.1742451910025693. Times of occurrences are [-8240.99718693 -8122.29718693]\n",
      "  warnings.warn(f\"At least a pair of {extrema_type} are too close.\"\n",
      "/home1/md.shaikh/Eccentricity/notebook/../gw_eccentricity/eccDefinition.py:614: UserWarning: Phase shift closer to pi than 2 pi detected.\n",
      "  warnings.warn(\"Phase shift closer to pi than 2 pi detected.\")\n",
      "/home1/md.shaikh/Eccentricity/notebook/../gw_eccentricity/eccDefinition.py:626: UserWarning: At least a pair of pericenters are too far. Maximum orbital phase diff is 8.87714893917913. Times of occurrences are [-7541.49718693 -6101.99718692]\n",
      "  warnings.warn(f\"At least a pair of {extrema_type} are too far.\"\n",
      "/home1/md.shaikh/Eccentricity/notebook/../gw_eccentricity/eccDefinition.py:608: UserWarning: At least a pair of apocenters are too close. Minimum orbital phase diff is 0.5389590935493125. Times of occurrences are [-8601.09718693 -8219.09718693]\n",
      "  warnings.warn(f\"At least a pair of {extrema_type} are too close.\"\n",
      "/home1/md.shaikh/Eccentricity/notebook/../gw_eccentricity/eccDefinition.py:626: UserWarning: At least a pair of apocenters are too far. Maximum orbital phase diff is 9.019451048020713. Times of occurrences are [-6817.99718692]\n",
      "  warnings.warn(f\"At least a pair of {extrema_type} are too far.\"\n",
      "/home1/md.shaikh/Eccentricity/notebook/../gw_eccentricity/eccDefinition.py:706: UserWarning: There is at least one instance where pericenters and apocenters do not appear alternately.\n",
      "  warnings.warn(\n",
      "/home1/md.shaikh/Eccentricity/notebook/../gw_eccentricity/eccDefinition.py:608: UserWarning: At least a pair of pericenters are too close. Minimum orbital phase diff is 0.1877445133927722. Times of occurrences are [-8122.59718693]\n",
      "  warnings.warn(f\"At least a pair of {extrema_type} are too close.\"\n",
      "/home1/md.shaikh/Eccentricity/notebook/../gw_eccentricity/eccDefinition.py:614: UserWarning: Phase shift closer to pi than 2 pi detected.\n",
      "  warnings.warn(\"Phase shift closer to pi than 2 pi detected.\")\n",
      "/home1/md.shaikh/Eccentricity/notebook/../gw_eccentricity/eccDefinition.py:626: UserWarning: At least a pair of pericenters are too far. Maximum orbital phase diff is 8.87124329932994. Times of occurrences are [-7541.59718693 -6101.99718692]\n",
      "  warnings.warn(f\"At least a pair of {extrema_type} are too far.\"\n",
      "/home1/md.shaikh/Eccentricity/notebook/../gw_eccentricity/eccDefinition.py:608: UserWarning: At least a pair of apocenters are too close. Minimum orbital phase diff is 0.07782259844291417. Times of occurrences are [-8218.99718693 -6741.69718692]\n",
      "  warnings.warn(f\"At least a pair of {extrema_type} are too close.\"\n",
      "/home1/md.shaikh/Eccentricity/notebook/../gw_eccentricity/eccDefinition.py:626: UserWarning: At least a pair of apocenters are too far. Maximum orbital phase diff is 9.065648876465644. Times of occurrences are [-6783.69718692 -5473.59718692]\n",
      "  warnings.warn(f\"At least a pair of {extrema_type} are too far.\"\n"
     ]
    }
   ],
   "source": [
    "MakeDiagnosticPlotsAsFunctionOfNumOrbits(get_available_methods(), sxs_nr_waveforms, [1, 2, 3, 4])"
   ]
  },
  {
   "cell_type": "markdown",
   "id": "e524bd3c-fab4-43a5-96e1-df3aeeb7c33b",
   "metadata": {},
   "source": [
    "### PhenomT vs Surrogate for zeroecc data"
   ]
  },
  {
   "cell_type": "code",
   "execution_count": 9,
   "id": "0a36ef38-fb93-41c6-9e20-d314dde018d3",
   "metadata": {},
   "outputs": [],
   "source": [
    "def MakeDiagnosticPlotsWithPhenomTVsSurrogate(nr_waveforms, list_num_orbits_to_exclude_before_merger, style=\"APS\", method=\"ResidualAmplitude\"):\n",
    "    \"\"\"loop through all NR waveforms, and make diagnostics plots.\n",
    "    \n",
    "    Using PhenomT and Surrogate for zeroecc data and by varying the num orbits before merger variable.\n",
    "    \n",
    "    Parameters:\n",
    "    -----------\n",
    "    nr_waveforms:\n",
    "        list of paths to NR waveforms to apply methods to.\n",
    "        \n",
    "    list_num_orbits_to_exclude_before_merger:\n",
    "        list of num orbits to exclude before mergers.\n",
    "    \n",
    "    style:\n",
    "        Settings for plots.\n",
    "    \"\"\"\n",
    "    colors = [\"tab:orange\", \"tab:blue\"]\n",
    "    lStyles = [\"-\", \"--\"]\n",
    "    lws = [1, 2]\n",
    "    # make output object\n",
    "    num_strings = \"_\".join([f\"{x:.1f}\" for x in list_num_orbits_to_exclude_before_merger])\n",
    "    pp = PdfPages(f\"NR-diagnostics-for-num-orbits_{num_strings}_PhenomT-vs-Surrogate.pdf\")\n",
    "\n",
    "    for idx, waveform_path in enumerate(nr_waveforms):\n",
    "        w = waveform_path.split(\"/\")[-1]\n",
    "        print(f\"===== {idx}/{len(nr_waveforms)} ===== {w} =====\", flush=True)\n",
    "        # for ecc-comparison plot\n",
    "        nrows = len(list_num_orbits_to_exclude_before_merger)\n",
    "        use_fancy_plotsettings(style=style)\n",
    "        fig, axes = plt.subplots(nrows=nrows, figsize=(figWidthsTwoColDict[style], nrows * figHeightsDict[style]),\n",
    "                                sharex=True)\n",
    "        if nrows == 1:\n",
    "            axes = [axes]\n",
    "    \n",
    "        for idx1, num_orbits in enumerate(list_num_orbits_to_exclude_before_merger):\n",
    "            for idx2, use_surrogate in enumerate([True, False]):\n",
    "                label = \"Surrogate\" if use_surrogate else \"PhenomT\"\n",
    "                kwargs = {\"filepath\": waveform_path,\n",
    "                          \"include_zero_ecc\": True,\n",
    "                          \"num_orbits_to_remove_as_junk\": num_orbits_dict.get(w, 3),\n",
    "                          \"use_surrogate_for_zeroecc\": use_surrogate}\n",
    "                dataDict = load_lvcnr_hack(**kwargs)\n",
    "                tref_vec = dataDict[\"t\"]\n",
    "                try:\n",
    "                    tref_out, ecc_vec, mean_ano_vec, gwecc_obj = measure_eccentricity(\n",
    "                        tref_in=tref_vec,\n",
    "                        dataDict=dataDict,\n",
    "                        method=method, \n",
    "                        return_gwecc_object=True,\n",
    "                        extra_kwargs={\"debug\": False,\n",
    "                                     \"num_orbits_to_exclude_before_merger\": num_orbits})\n",
    "                    gwecc_obj.plot_measured_ecc(fig, axes[idx1], add_vline_at_tref=True if idx2 == 0 else False,\n",
    "                                                **{\"label\": label,\n",
    "                                                   \"c\": colors[idx2],\n",
    "                                                   \"ls\": lStyles[idx2],\n",
    "                                                   \"lw\": lws[idx2]})\n",
    "                except Exception:\n",
    "                    print(f\"{use_surrogate} Fails for {w} with {num_orbits}.\")\n",
    "            axes[idx1].text(0.99, 0.95, f\"number of orbits = {num_orbits:.1f}\", transform=axes[idx1].transAxes,\n",
    "                           ha=\"right\", va=\"top\", fontsize=10)\n",
    "            axes[idx1].set_xlabel(\"\")\n",
    "        axes[0].legend(labelspacing=0.2, handlelength=1, fontsize=10)\n",
    "        axes[-1].set_xlabel(r\"$t$ [$M$]\")\n",
    "        q = dataDict[\"params_dict\"][\"q\"]\n",
    "        ecc = dataDict[\"params_dict\"][\"ecc\"]\n",
    "        chi1 = np.around(dataDict[\"params_dict\"][\"chi1\"], 5)\n",
    "        chi2 = np.around(dataDict[\"params_dict\"][\"chi2\"], 5)\n",
    "        title = (f\"case {idx}/{len(sxs_nr_waveforms)-1}, \"\n",
    "                f\"$q$={q:.1f}, \"\n",
    "                f\"$\\chi_{1}$={chi1}, \"\n",
    "                f\"$\\chi_{2}$={chi2}, \"\n",
    "                f\"ecc={ecc:.2f}\\n\"\n",
    "                f\"id={w}\")\n",
    "        axes[0].set_title(title, ha=\"center\", fontsize=10)\n",
    "        fig.set_tight_layout(True)\n",
    "        fig.savefig(pp,format='pdf')\n",
    "        plt.close(fig)\n",
    "    pp.close()"
   ]
  },
  {
   "cell_type": "code",
   "execution_count": 10,
   "id": "ff53ae9e-14a5-419c-8390-61fc89b65f96",
   "metadata": {},
   "outputs": [
    {
     "name": "stdout",
     "output_type": "stream",
     "text": [
      "===== 0/2 ===== BBH_SHK_q10_e01_D14.5_Res3.h5 =====\n",
      "Loaded NRHybSur3dq8 model\n"
     ]
    },
    {
     "name": "stderr",
     "output_type": "stream",
     "text": [
      "/home1/md.shaikh/miniconda3/envs/eccimrct/lib/python3.8/site-packages/gwsurrogate/surrogate.py:1508: UserWarning: Mass ratio q=10.0000 is outside training range: 1<=q<=8.0100\n",
      "  warnings.warn('Mass ratio q=%.4f is outside training '\n",
      "/home1/md.shaikh/miniconda3/envs/eccimrct/lib/python3.8/site-packages/gwsurrogate/surrogate.py:1508: UserWarning: Mass ratio q=10.0000 is outside training range: 1<=q<=8.0100\n",
      "  warnings.warn('Mass ratio q=%.4f is outside training '\n",
      "/home1/md.shaikh/miniconda3/envs/eccimrct/lib/python3.8/site-packages/gwsurrogate/surrogate.py:1508: UserWarning: Mass ratio q=10.0000 is outside training range: 1<=q<=8.0100\n",
      "  warnings.warn('Mass ratio q=%.4f is outside training '\n",
      "/home1/md.shaikh/Eccentricity/notebook/../gw_eccentricity/load_data.py:564: UserWarning: Too many tries to reset Momega0 for generating zeroecc modes. Total number of tries = 2\n",
      "  warnings.warn(\"Too many tries to reset Momega0 for generating\"\n",
      "/home1/md.shaikh/Eccentricity/notebook/../gw_eccentricity/eccDefinition.py:465: UserWarning: Encountered negative eccentricity.\n",
      "  warnings.warn(\"Encountered negative eccentricity.\")\n",
      "/home1/md.shaikh/Eccentricity/notebook/../gw_eccentricity/eccDefinition.py:465: UserWarning: Encountered negative eccentricity.\n",
      "  warnings.warn(\"Encountered negative eccentricity.\")\n"
     ]
    },
    {
     "name": "stdout",
     "output_type": "stream",
     "text": [
      "Loaded NRHybSur3dq8 model\n"
     ]
    },
    {
     "name": "stderr",
     "output_type": "stream",
     "text": [
      "/home1/md.shaikh/miniconda3/envs/eccimrct/lib/python3.8/site-packages/gwsurrogate/surrogate.py:1508: UserWarning: Mass ratio q=10.0000 is outside training range: 1<=q<=8.0100\n",
      "  warnings.warn('Mass ratio q=%.4f is outside training '\n",
      "/home1/md.shaikh/miniconda3/envs/eccimrct/lib/python3.8/site-packages/gwsurrogate/surrogate.py:1508: UserWarning: Mass ratio q=10.0000 is outside training range: 1<=q<=8.0100\n",
      "  warnings.warn('Mass ratio q=%.4f is outside training '\n",
      "/home1/md.shaikh/miniconda3/envs/eccimrct/lib/python3.8/site-packages/gwsurrogate/surrogate.py:1508: UserWarning: Mass ratio q=10.0000 is outside training range: 1<=q<=8.0100\n",
      "  warnings.warn('Mass ratio q=%.4f is outside training '\n",
      "/home1/md.shaikh/Eccentricity/notebook/../gw_eccentricity/load_data.py:564: UserWarning: Too many tries to reset Momega0 for generating zeroecc modes. Total number of tries = 2\n",
      "  warnings.warn(\"Too many tries to reset Momega0 for generating\"\n"
     ]
    },
    {
     "name": "stdout",
     "output_type": "stream",
     "text": [
      "Loaded NRHybSur3dq8 model\n"
     ]
    },
    {
     "name": "stderr",
     "output_type": "stream",
     "text": [
      "/home1/md.shaikh/miniconda3/envs/eccimrct/lib/python3.8/site-packages/gwsurrogate/surrogate.py:1508: UserWarning: Mass ratio q=10.0000 is outside training range: 1<=q<=8.0100\n",
      "  warnings.warn('Mass ratio q=%.4f is outside training '\n",
      "/home1/md.shaikh/miniconda3/envs/eccimrct/lib/python3.8/site-packages/gwsurrogate/surrogate.py:1508: UserWarning: Mass ratio q=10.0000 is outside training range: 1<=q<=8.0100\n",
      "  warnings.warn('Mass ratio q=%.4f is outside training '\n",
      "/home1/md.shaikh/miniconda3/envs/eccimrct/lib/python3.8/site-packages/gwsurrogate/surrogate.py:1508: UserWarning: Mass ratio q=10.0000 is outside training range: 1<=q<=8.0100\n",
      "  warnings.warn('Mass ratio q=%.4f is outside training '\n",
      "/home1/md.shaikh/Eccentricity/notebook/../gw_eccentricity/load_data.py:564: UserWarning: Too many tries to reset Momega0 for generating zeroecc modes. Total number of tries = 2\n",
      "  warnings.warn(\"Too many tries to reset Momega0 for generating\"\n"
     ]
    },
    {
     "name": "stdout",
     "output_type": "stream",
     "text": [
      "Loaded NRHybSur3dq8 model\n"
     ]
    },
    {
     "name": "stderr",
     "output_type": "stream",
     "text": [
      "/home1/md.shaikh/miniconda3/envs/eccimrct/lib/python3.8/site-packages/gwsurrogate/surrogate.py:1508: UserWarning: Mass ratio q=10.0000 is outside training range: 1<=q<=8.0100\n",
      "  warnings.warn('Mass ratio q=%.4f is outside training '\n",
      "/home1/md.shaikh/miniconda3/envs/eccimrct/lib/python3.8/site-packages/gwsurrogate/surrogate.py:1508: UserWarning: Mass ratio q=10.0000 is outside training range: 1<=q<=8.0100\n",
      "  warnings.warn('Mass ratio q=%.4f is outside training '\n",
      "/home1/md.shaikh/miniconda3/envs/eccimrct/lib/python3.8/site-packages/gwsurrogate/surrogate.py:1508: UserWarning: Mass ratio q=10.0000 is outside training range: 1<=q<=8.0100\n",
      "  warnings.warn('Mass ratio q=%.4f is outside training '\n",
      "/home1/md.shaikh/Eccentricity/notebook/../gw_eccentricity/load_data.py:564: UserWarning: Too many tries to reset Momega0 for generating zeroecc modes. Total number of tries = 2\n",
      "  warnings.warn(\"Too many tries to reset Momega0 for generating\"\n"
     ]
    },
    {
     "name": "stdout",
     "output_type": "stream",
     "text": [
      "===== 1/2 ===== BBH_SHK_q10_e01_D16_Res3.h5 =====\n",
      "Loaded NRHybSur3dq8 model\n"
     ]
    },
    {
     "name": "stderr",
     "output_type": "stream",
     "text": [
      "/home1/md.shaikh/miniconda3/envs/eccimrct/lib/python3.8/site-packages/gwsurrogate/surrogate.py:1508: UserWarning: Mass ratio q=10.0001 is outside training range: 1<=q<=8.0100\n",
      "  warnings.warn('Mass ratio q=%.4f is outside training '\n",
      "/home1/md.shaikh/miniconda3/envs/eccimrct/lib/python3.8/site-packages/gwsurrogate/surrogate.py:1508: UserWarning: Mass ratio q=10.0001 is outside training range: 1<=q<=8.0100\n",
      "  warnings.warn('Mass ratio q=%.4f is outside training '\n",
      "/home1/md.shaikh/miniconda3/envs/eccimrct/lib/python3.8/site-packages/gwsurrogate/surrogate.py:1508: UserWarning: Mass ratio q=10.0001 is outside training range: 1<=q<=8.0100\n",
      "  warnings.warn('Mass ratio q=%.4f is outside training '\n",
      "/home1/md.shaikh/Eccentricity/notebook/../gw_eccentricity/load_data.py:564: UserWarning: Too many tries to reset Momega0 for generating zeroecc modes. Total number of tries = 2\n",
      "  warnings.warn(\"Too many tries to reset Momega0 for generating\"\n"
     ]
    },
    {
     "name": "stdout",
     "output_type": "stream",
     "text": [
      "Loaded NRHybSur3dq8 model\n"
     ]
    },
    {
     "name": "stderr",
     "output_type": "stream",
     "text": [
      "/home1/md.shaikh/miniconda3/envs/eccimrct/lib/python3.8/site-packages/gwsurrogate/surrogate.py:1508: UserWarning: Mass ratio q=10.0001 is outside training range: 1<=q<=8.0100\n",
      "  warnings.warn('Mass ratio q=%.4f is outside training '\n",
      "/home1/md.shaikh/miniconda3/envs/eccimrct/lib/python3.8/site-packages/gwsurrogate/surrogate.py:1508: UserWarning: Mass ratio q=10.0001 is outside training range: 1<=q<=8.0100\n",
      "  warnings.warn('Mass ratio q=%.4f is outside training '\n",
      "/home1/md.shaikh/miniconda3/envs/eccimrct/lib/python3.8/site-packages/gwsurrogate/surrogate.py:1508: UserWarning: Mass ratio q=10.0001 is outside training range: 1<=q<=8.0100\n",
      "  warnings.warn('Mass ratio q=%.4f is outside training '\n",
      "/home1/md.shaikh/Eccentricity/notebook/../gw_eccentricity/load_data.py:564: UserWarning: Too many tries to reset Momega0 for generating zeroecc modes. Total number of tries = 2\n",
      "  warnings.warn(\"Too many tries to reset Momega0 for generating\"\n"
     ]
    },
    {
     "name": "stdout",
     "output_type": "stream",
     "text": [
      "Loaded NRHybSur3dq8 model\n"
     ]
    },
    {
     "name": "stderr",
     "output_type": "stream",
     "text": [
      "/home1/md.shaikh/miniconda3/envs/eccimrct/lib/python3.8/site-packages/gwsurrogate/surrogate.py:1508: UserWarning: Mass ratio q=10.0001 is outside training range: 1<=q<=8.0100\n",
      "  warnings.warn('Mass ratio q=%.4f is outside training '\n",
      "/home1/md.shaikh/miniconda3/envs/eccimrct/lib/python3.8/site-packages/gwsurrogate/surrogate.py:1508: UserWarning: Mass ratio q=10.0001 is outside training range: 1<=q<=8.0100\n",
      "  warnings.warn('Mass ratio q=%.4f is outside training '\n",
      "/home1/md.shaikh/miniconda3/envs/eccimrct/lib/python3.8/site-packages/gwsurrogate/surrogate.py:1508: UserWarning: Mass ratio q=10.0001 is outside training range: 1<=q<=8.0100\n",
      "  warnings.warn('Mass ratio q=%.4f is outside training '\n",
      "/home1/md.shaikh/Eccentricity/notebook/../gw_eccentricity/load_data.py:564: UserWarning: Too many tries to reset Momega0 for generating zeroecc modes. Total number of tries = 2\n",
      "  warnings.warn(\"Too many tries to reset Momega0 for generating\"\n"
     ]
    },
    {
     "name": "stdout",
     "output_type": "stream",
     "text": [
      "Loaded NRHybSur3dq8 model\n"
     ]
    },
    {
     "name": "stderr",
     "output_type": "stream",
     "text": [
      "/home1/md.shaikh/miniconda3/envs/eccimrct/lib/python3.8/site-packages/gwsurrogate/surrogate.py:1508: UserWarning: Mass ratio q=10.0001 is outside training range: 1<=q<=8.0100\n",
      "  warnings.warn('Mass ratio q=%.4f is outside training '\n",
      "/home1/md.shaikh/miniconda3/envs/eccimrct/lib/python3.8/site-packages/gwsurrogate/surrogate.py:1508: UserWarning: Mass ratio q=10.0001 is outside training range: 1<=q<=8.0100\n",
      "  warnings.warn('Mass ratio q=%.4f is outside training '\n",
      "/home1/md.shaikh/miniconda3/envs/eccimrct/lib/python3.8/site-packages/gwsurrogate/surrogate.py:1508: UserWarning: Mass ratio q=10.0001 is outside training range: 1<=q<=8.0100\n",
      "  warnings.warn('Mass ratio q=%.4f is outside training '\n",
      "/home1/md.shaikh/Eccentricity/notebook/../gw_eccentricity/load_data.py:564: UserWarning: Too many tries to reset Momega0 for generating zeroecc modes. Total number of tries = 2\n",
      "  warnings.warn(\"Too many tries to reset Momega0 for generating\"\n"
     ]
    }
   ],
   "source": [
    "MakeDiagnosticPlotsWithPhenomTVsSurrogate(sxs_nr_waveforms[0:2], [1, 2, 3, 4])"
   ]
  },
  {
   "cell_type": "markdown",
   "id": "8c556f10-4492-4ca4-bd2e-2ed9ce8663c0",
   "metadata": {},
   "source": [
    "### Last good extrema "
   ]
  },
  {
   "cell_type": "code",
   "execution_count": 37,
   "id": "52598309-1bbb-4fb9-a1b3-ca4c95fa0368",
   "metadata": {},
   "outputs": [
    {
     "name": "stdout",
     "output_type": "stream",
     "text": [
      "Loaded NRHybSur3dq8 model\n"
     ]
    },
    {
     "name": "stderr",
     "output_type": "stream",
     "text": [
      "/home1/md.shaikh/Eccentricity/notebook/../gw_eccentricity/load_data.py:564: UserWarning: Too many tries to reset Momega0 for generating zeroecc modes. Total number of tries = 2\n",
      "  warnings.warn(\"Too many tries to reset Momega0 for generating\"\n"
     ]
    }
   ],
   "source": [
    "waveform_path = sxs_nr_waveforms[10]\n",
    "w = waveform_path.split(\"/\")[-1]\n",
    "kwargs = {\"filepath\": waveform_path,\n",
    "          \"include_zero_ecc\": True,\n",
    "          \"num_orbits_to_remove_as_junk\": num_orbits_dict.get(w, 3)}\n",
    "dataDict = load_lvcnr_hack(**kwargs)\n",
    "tref_vec = dataDict[\"t\"]"
   ]
  },
  {
   "cell_type": "code",
   "execution_count": 38,
   "id": "e860491d-5d85-440b-aebc-9e5ea25430b1",
   "metadata": {},
   "outputs": [],
   "source": [
    "tref_out, ecc_vec, mean_ano_vec, gwecc_obj = measure_eccentricity(\n",
    "                        tref_in=tref_vec,\n",
    "                        dataDict=dataDict,\n",
    "                        method=\"ResidualAmplitude\", \n",
    "                        return_gwecc_object=True,\n",
    "                        extra_kwargs={\"debug\": False})"
   ]
  },
  {
   "cell_type": "code",
   "execution_count": 39,
   "id": "7a097ab1-8c61-4368-8ce3-e9bd9313d12e",
   "metadata": {},
   "outputs": [
    {
     "data": {
      "image/png": "[encoded data removed]",
      "text/plain": [
       "<Figure size 864x288 with 1 Axes>"
      ]
     },
     "metadata": {
      "needs_background": "light"
     },
     "output_type": "display_data"
    }
   ],
   "source": [
    "fig, ax = gwecc_obj.plot_measured_ecc()"
   ]
  },
  {
   "cell_type": "code",
   "execution_count": 40,
   "id": "37da80b6-fa8c-4f42-a874-184a8c1c9db8",
   "metadata": {},
   "outputs": [
    {
     "data": {
      "text/plain": [
       "array([ 3655,  9669, 15466, 21042, 26397, 31528, 36433, 41104, 45538,\n",
       "       49727, 53660, 57325, 60702, 63766, 66470])"
      ]
     },
     "execution_count": 40,
     "metadata": {},
     "output_type": "execute_result"
    }
   ],
   "source": [
    "gwecc_obj.pericenters_location"
   ]
  },
  {
   "cell_type": "code",
   "execution_count": 41,
   "id": "c6cd8bc8-d332-4826-85b6-6f20292567a5",
   "metadata": {},
   "outputs": [
    {
     "data": {
      "text/plain": [
       "66470"
      ]
     },
     "execution_count": 41,
     "metadata": {},
     "output_type": "execute_result"
    }
   ],
   "source": [
    "last_peri = gwecc_obj.get_last_good_extrema_from_res_omega22_ratio(gwecc_obj.pericenters_location, max_ratio=1.05)\n",
    "last_peri"
   ]
  },
  {
   "cell_type": "code",
   "execution_count": 42,
   "id": "952fb05e-4e83-4e0e-a38b-1cc54f307e6c",
   "metadata": {},
   "outputs": [
    {
     "data": {
      "text/plain": [
       "<matplotlib.lines.Line2D at 0x7fba8f23bd60>"
      ]
     },
     "execution_count": 42,
     "metadata": {},
     "output_type": "execute_result"
    },
    {
     "data": {
      "image/png": "[encoded data removed]",
      "text/plain": [
       "<Figure size 864x288 with 1 Axes>"
      ]
     },
     "metadata": {
      "needs_background": "light"
     },
     "output_type": "display_data"
    }
   ],
   "source": [
    "fig, ax = gwecc_obj.plot_residual_omega22()\n",
    "ax.axvline(gwecc_obj.t[last_peri])\n",
    "# ax.set_xlim(gwecc_obj.t[last_peri] - 500, gwecc_obj.t[last_peri] + 500)"
   ]
  },
  {
   "cell_type": "code",
   "execution_count": 106,
   "id": "b27a1981-9045-47f4-a65e-a046523ab660",
   "metadata": {},
   "outputs": [
    {
     "data": {
      "text/plain": [
       "[<matplotlib.lines.Line2D at 0x7fd8051e57c0>]"
      ]
     },
     "execution_count": 106,
     "metadata": {},
     "output_type": "execute_result"
    },
    {
     "data": {
      "image/png": "[encoded data removed]",
      "text/plain": [
       "<Figure size 432x288 with 1 Axes>"
      ]
     },
     "metadata": {
      "needs_background": "light"
     },
     "output_type": "display_data"
    }
   ],
   "source": [
    "plt.plot(gwecc_obj.res_omega22[gwecc_obj.pericenters_location][1:] / gwecc_obj.res_omega22[gwecc_obj.pericenters_location][:-1], marker=\".\")"
   ]
  },
  {
   "cell_type": "code",
   "execution_count": 86,
   "id": "ca155f5b-3bd7-481b-9a6b-39a782163259",
   "metadata": {},
   "outputs": [
    {
     "data": {
      "text/plain": [
       "array([  4489,   9173,  13795,  18356,  22858,  27296,  31666,  35977,\n",
       "        40219,  44391,  48495,  52532,  56491,  60374,  64187,  67918,\n",
       "        71561,  75123,  78596,  81981,  85269,  88454,  91532,  94499,\n",
       "        97354, 100080])"
      ]
     },
     "execution_count": 86,
     "metadata": {},
     "output_type": "execute_result"
    }
   ],
   "source": [
    "gwecc_obj.apocenters_location"
   ]
  },
  {
   "cell_type": "code",
   "execution_count": 87,
   "id": "6c467e8c-345a-42ce-9fd5-f5cf75a54bbf",
   "metadata": {},
   "outputs": [
    {
     "data": {
      "text/plain": [
       "100080"
      ]
     },
     "execution_count": 87,
     "metadata": {},
     "output_type": "execute_result"
    }
   ],
   "source": [
    "last_apo = gwecc_obj.get_last_extrema_from_res_omega22_ratio(gwecc_obj.apocenters_location, max_ratio=1.05)\n",
    "last_apo"
   ]
  },
  {
   "cell_type": "code",
   "execution_count": 88,
   "id": "84b2b563-2acc-4601-bb43-42d4d4307f24",
   "metadata": {},
   "outputs": [
    {
     "data": {
      "text/plain": [
       "[<matplotlib.lines.Line2D at 0x7fd788a6aa30>]"
      ]
     },
     "execution_count": 88,
     "metadata": {},
     "output_type": "execute_result"
    },
    {
     "data": {
      "image/png": "[encoded data removed]",
      "text/plain": [
       "<Figure size 432x288 with 1 Axes>"
      ]
     },
     "metadata": {
      "needs_background": "light"
     },
     "output_type": "display_data"
    }
   ],
   "source": [
    "plt.plot(gwecc_obj.res_omega22[gwecc_obj.apocenters_location][1:] / gwecc_obj.res_omega22[gwecc_obj.apocenters_location][:-1], marker=\".\")"
   ]
  },
  {
   "cell_type": "code",
   "execution_count": null,
   "id": "ad0577a9-b938-4616-a3ad-e95aa9465031",
   "metadata": {},
   "outputs": [],
   "source": []
  }
 ],
 "metadata": {
  "kernelspec": {
   "display_name": "Python 3 (ipykernel)",
   "language": "python",
   "name": "python3"
  },
  "language_info": {
   "codemirror_mode": {
    "name": "ipython",
    "version": 3
   },
   "file_extension": ".py",
   "mimetype": "text/x-python",
   "name": "python",
   "nbconvert_exporter": "python",
   "pygments_lexer": "ipython3",
   "version": "3.8.12"
  },
  "vscode": {
   "interpreter": {
    "hash": "d8e522c59817b1c4e4289d5902f293b39fa35853ec59d838cdecd0fa60b128dc"
   }
  }
 },
 "nbformat": 4,
 "nbformat_minor": 5
}
