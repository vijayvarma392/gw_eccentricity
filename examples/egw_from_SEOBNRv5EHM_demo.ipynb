{
 "cells": [
  {
   "cell_type": "markdown",
   "id": "1f9ddb78-4d4b-4d44-bce9-f2b577ce1fb1",
   "metadata": {},
   "source": [
    "In this example, we show how to compute $e_{\\text{gw}}$\n",
    " from an eccentric waveform generated using the `SEOBNRv5EHM` waveform model.\n",
    "We will use the python package `pyseobnr` from [here](https://git.ligo.org/waveforms/software/pyseobnr/).\n",
    "The waveform loading function used in this notebook is based on the python example provided in the documentation [here](https://waveforms.docs.ligo.org/software/pyseobnr/source/notebooks/example_SEOBNRv5EHM.html)."
   ]
  },
  {
   "cell_type": "code",
   "execution_count": 1,
   "id": "6c0c9564-054d-4c75-8628-610ca5af16e0",
   "metadata": {},
   "outputs": [],
   "source": [
    "import matplotlib.pyplot as plt\n",
    "import numpy as np\n",
    "import warnings\n",
    "\n",
    "warnings.filterwarnings(\"ignore\", \"Wswiglal-redir-stdio\")  # silence LAL warnings\n",
    "from pyseobnr.generate_waveform import GenerateWaveform, generate_modes_opt\n",
    "\n",
    "from gw_eccentricity import measure_eccentricity\n",
    "from gw_eccentricity.plot_settings import use_fancy_plotsettings, labelsDict"
   ]
  },
  {
   "cell_type": "markdown",
   "id": "b47d7d83-be4f-4746-9ac3-7b27b197a1ee",
   "metadata": {},
   "source": [
    "# In dimensionless units"
   ]
  },
  {
   "cell_type": "code",
   "execution_count": 2,
   "id": "e8568bf9-62bc-4fa9-a4f5-69343a510f7e",
   "metadata": {},
   "outputs": [],
   "source": [
    "# Input parameters\n",
    "q = 5.3\n",
    "chi_1 = 0.9\n",
    "chi_2 = 0.3\n",
    "omega_start = 0.0137  # This is the orbital frequency in geometric units with M=1\n",
    "eccentricity = 0.4\n",
    "rel_anomaly = 2.3"
   ]
  },
  {
   "cell_type": "code",
   "execution_count": 3,
   "id": "736b8114-f51b-4e1f-bcfe-ee12586b5bdf",
   "metadata": {},
   "outputs": [],
   "source": [
    "t, modes = generate_modes_opt(\n",
    "    q,\n",
    "    chi_1,\n",
    "    chi_2,\n",
    "    omega_start,\n",
    "    eccentricity=eccentricity,\n",
    "    rel_anomaly=rel_anomaly,\n",
    "    approximant=\"SEOBNRv5EHM\",\n",
    ")"
   ]
  },
  {
   "cell_type": "code",
   "execution_count": 4,
   "id": "50f5b633-3f88-4b57-893e-2395bb812cc8",
   "metadata": {},
   "outputs": [
    {
     "data": {
      "text/plain": [
       "dict_keys(['2,2', '2,1', '3,3', '3,2', '4,4', '4,3'])"
      ]
     },
     "execution_count": 4,
     "metadata": {},
     "output_type": "execute_result"
    }
   ],
   "source": [
    "modes.keys()"
   ]
  },
  {
   "cell_type": "markdown",
   "id": "d89636ca-cada-4533-b62f-6c9e8ddc05ff",
   "metadata": {},
   "source": [
    "## Get data dict in gw_eccentricity input format"
   ]
  },
  {
   "cell_type": "code",
   "execution_count": 5,
   "id": "b802a584-21f6-40f5-b33b-6747ad0f9e75",
   "metadata": {},
   "outputs": [],
   "source": [
    "def get_data_dict(t, modes):\n",
    "    modes_dict = {}\n",
    "    for k in modes.keys():\n",
    "        modes_dict.update({tuple([int(x) for x in k.split(\",\")]): modes[k]})\n",
    "    return {\"t\": t, \"hlm\": modes_dict}"
   ]
  },
  {
   "cell_type": "code",
   "execution_count": 6,
   "id": "7eec7184-3f0c-443b-9ace-56c233bde55a",
   "metadata": {},
   "outputs": [],
   "source": [
    "data_dict = get_data_dict(t, modes)"
   ]
  },
  {
   "cell_type": "markdown",
   "id": "82f954ac-5ea3-4f8b-9d4d-463dd09507b4",
   "metadata": {},
   "source": [
    "## Compute $e_{\\text{gw}}$"
   ]
  },
  {
   "cell_type": "code",
   "execution_count": 19,
   "id": "c9f62053-fafa-47ca-b984-d473f1874ca1",
   "metadata": {},
   "outputs": [],
   "source": [
    "gwecc_dict = measure_eccentricity(\n",
    "    dataDict=data_dict,\n",
    "    tref_in=data_dict[\"t\"])"
   ]
  },
  {
   "cell_type": "code",
   "execution_count": 8,
   "id": "feca5539-baea-4ea8-9ab6-7450466931b5",
   "metadata": {},
   "outputs": [],
   "source": [
    "gwecc_obj = gwecc_dict[\"gwecc_object\"]"
   ]
  },
  {
   "cell_type": "code",
   "execution_count": 9,
   "id": "6e2c90ef-550e-431a-8eaa-c44175116e31",
   "metadata": {},
   "outputs": [
    {
     "data": {
      "text/plain": [
       "Text(0.5, 0, '$t$ [$M$]')"
      ]
     },
     "execution_count": 9,
     "metadata": {},
     "output_type": "execute_result"
    },
    {
     "data": {
      "image/png": "[encoded data removed]",
      "text/plain": [
       "<Figure size 1200x400 with 1 Axes>"
      ]
     },
     "metadata": {},
     "output_type": "display_data"
    }
   ],
   "source": [
    "use_fancy_plotsettings()\n",
    "fig, ax = gwecc_obj.plot_eccentricity()\n",
    "ax.set_xlabel(labelsDict[\"t_dimless\"])"
   ]
  },
  {
   "cell_type": "markdown",
   "id": "c9e3149f-afd8-4698-9a3f-a06ad51e3efe",
   "metadata": {},
   "source": [
    "# In physical units"
   ]
  },
  {
   "cell_type": "code",
   "execution_count": 10,
   "id": "483be212-e8bb-4e53-9e21-837d8305c495",
   "metadata": {},
   "outputs": [],
   "source": [
    "# start with the usual parameter definitions\n",
    "m1 = 50.0\n",
    "m2 = 30.0\n",
    "s1x = 0.0\n",
    "s1y = 0.0\n",
    "s1z = 0.0\n",
    "s2x = 0.0\n",
    "s2y = 0.0\n",
    "s2z = 0.0\n",
    "\n",
    "eccentricity = 0.3\n",
    "rel_anomaly = np.pi\n",
    "\n",
    "deltaT = 1.0 / 1024.0\n",
    "f_min = 10.0\n",
    "f_max = 512.0\n",
    "\n",
    "distance = 1000.0\n",
    "inclination = np.pi / 3.0\n",
    "approximant = \"SEOBNRv5EHM\"\n",
    "\n",
    "params_dict = {\n",
    "    \"mass1\": m1,\n",
    "    \"mass2\": m2,\n",
    "    \"spin1x\": s1x,\n",
    "    \"spin1y\": s1y,\n",
    "    \"spin1z\": s1z,\n",
    "    \"spin2x\": s2x,\n",
    "    \"spin2y\": s2y,\n",
    "    \"spin2z\": s2z,\n",
    "    \"deltaT\": deltaT,\n",
    "    \"f22_start\": f_min,\n",
    "    \"distance\": distance,\n",
    "    \"inclination\": inclination,\n",
    "    \"f_max\": f_max,\n",
    "    \"mode_array\": [\n",
    "        (2, 2),\n",
    "        (2, 1),\n",
    "        (3, 2),\n",
    "        (3, 3),\n",
    "        (4, 3),\n",
    "        (4, 4),\n",
    "    ],  # Specify which modes are to be returned\n",
    "    \"approximant\": approximant,\n",
    "    \"eccentricity\": eccentricity,\n",
    "    \"rel_anomaly\": rel_anomaly,\n",
    "    \"EccIC\": 1,  # EccIC = 0 for instantaneous initial orbital frequency, and EccIC = 1 for orbit-averaged initial orbital frequency\n",
    "}"
   ]
  },
  {
   "cell_type": "code",
   "execution_count": 11,
   "id": "10e66914-712a-4a80-ac31-1d0f87f600ab",
   "metadata": {},
   "outputs": [],
   "source": [
    "wfm_gen = GenerateWaveform(params_dict)  # We call the generator with the parameters"
   ]
  },
  {
   "cell_type": "code",
   "execution_count": 12,
   "id": "406909ef-e66a-4ee8-aa7c-094fba9a20c3",
   "metadata": {},
   "outputs": [],
   "source": [
    "times, hlm = wfm_gen.generate_td_modes()"
   ]
  },
  {
   "cell_type": "code",
   "execution_count": 13,
   "id": "926d9a9d-36f3-4ea6-8d26-df4dcb811d5f",
   "metadata": {},
   "outputs": [
    {
     "data": {
      "text/plain": [
       "dict_keys([(2, 2), (2, 1), (3, 2), (3, 3), (4, 3), (4, 4), (2, -2), (2, -1), (3, -2), (3, -3), (4, -3), (4, -4)])"
      ]
     },
     "execution_count": 13,
     "metadata": {},
     "output_type": "execute_result"
    }
   ],
   "source": [
    "# the mode keys are already in the gw_eccentricity format\n",
    "hlm.keys()"
   ]
  },
  {
   "cell_type": "code",
   "execution_count": 14,
   "id": "47ab349d-4e84-4879-9886-42fac241e532",
   "metadata": {},
   "outputs": [],
   "source": [
    "data_dict_physical = {\"t\": times, \"hlm\": hlm}"
   ]
  },
  {
   "cell_type": "code",
   "execution_count": 18,
   "id": "76653375-9df3-405e-96bd-03fd46ecbf7a",
   "metadata": {},
   "outputs": [],
   "source": [
    "gwecc_dict_physical = measure_eccentricity(\n",
    "    dataDict=data_dict_physical,\n",
    "    tref_in=data_dict_physical[\"t\"],\n",
    ")"
   ]
  },
  {
   "cell_type": "code",
   "execution_count": 16,
   "id": "738cbec3-1fab-4a43-ad30-fc0d4ced91b0",
   "metadata": {},
   "outputs": [],
   "source": [
    "gwecc_obj_physical = gwecc_dict_physical[\"gwecc_object\"]"
   ]
  },
  {
   "cell_type": "code",
   "execution_count": 17,
   "id": "ee575bd0-dc1a-467a-953b-9bea52670937",
   "metadata": {},
   "outputs": [
    {
     "data": {
      "text/plain": [
       "Text(0.5, 0, '$t$ [s] ')"
      ]
     },
     "execution_count": 17,
     "metadata": {},
     "output_type": "execute_result"
    },
    {
     "data": {
      "image/png": "[encoded data removed]",
      "text/plain": [
       "<Figure size 1200x400 with 1 Axes>"
      ]
     },
     "metadata": {},
     "output_type": "display_data"
    }
   ],
   "source": [
    "use_fancy_plotsettings()\n",
    "fig, ax = gwecc_obj_physical.plot_eccentricity()\n",
    "ax.set_xlabel(labelsDict[\"t\"] + \" [s] \")"
   ]
  },
  {
   "cell_type": "code",
   "execution_count": null,
   "id": "e6300a0c-61e2-4640-abd9-694329acca1a",
   "metadata": {},
   "outputs": [],
   "source": []
  }
 ],
 "metadata": {
  "kernelspec": {
   "display_name": "Python 3 (ipykernel)",
   "language": "python",
   "name": "python3"
  },
  "language_info": {
   "codemirror_mode": {
    "name": "ipython",
    "version": 3
   },
   "file_extension": ".py",
   "mimetype": "text/x-python",
   "name": "python",
   "nbconvert_exporter": "python",
   "pygments_lexer": "ipython3",
   "version": "3.10.18"
  }
 },
 "nbformat": 4,
 "nbformat_minor": 5
}
