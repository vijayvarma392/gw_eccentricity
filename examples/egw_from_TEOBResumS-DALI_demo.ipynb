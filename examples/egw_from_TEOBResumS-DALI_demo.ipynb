{
 "cells": [
  {
   "cell_type": "markdown",
   "id": "6bd0370d-7631-4acf-89d1-0eca3a0ad853",
   "metadata": {},
   "source": [
    "In this example, we show how to compute $e_{\\text{gw}}$ from an eccentric waveform generated using the `TEOBResumS-DALI` waveform model. <br>\n",
    "We will use the `Dali` branch of `TEOBResumS` from [here](https://bitbucket.org/teobresums/teobresums/src/Dali/). <br>\n",
    "The waveform loading function used in this notebook is based on the python example provided inside the above branch [here](https://bitbucket.org/teobresums/teobresums/src/Dali/Python/Examples/ExampleEccentricBBH.py). See the installation instructions [here](https://bitbucket.org/teobresums/teobresums/src/Dali/Python/)."
   ]
  },
  {
   "cell_type": "code",
   "execution_count": 14,
   "id": "19ca49d0-0d3a-4048-9def-d92800ce2909",
   "metadata": {},
   "outputs": [],
   "source": [
    "# May need to add the path to EOBRun_module\n",
    "#import sys\n",
    "#sys.path.append(\"/home/arif/dali_2024/Python/\")"
   ]
  },
  {
   "cell_type": "code",
   "execution_count": 10,
   "id": "e9944f48-5a8f-47a4-b210-c14e545d4270",
   "metadata": {},
   "outputs": [],
   "source": [
    "import EOBRun_module # generate TEOBResumS modes\n",
    "import numpy as np\n",
    "from gw_eccentricity import measure_eccentricity\n",
    "from gw_eccentricity.plot_settings import use_fancy_plotsettings, labelsDict"
   ]
  },
  {
   "cell_type": "code",
   "execution_count": 4,
   "id": "f3584b2c-a2fa-4e19-9636-23e7503e3c1e",
   "metadata": {},
   "outputs": [],
   "source": [
    "# create a dictionary of waveform parameters\n",
    "parameters = {\n",
    "        # System parametes, assuming aligned spins        \n",
    "        'M'                  : 50,     # Total mass\n",
    "        'q'                  : 2,      # Mass ratio m1/m2 > 1\n",
    "        'chi1z'              : 0.3,    # Z component of chi_1\n",
    "        'chi2z'              : -0.6,   # Z component of chi_2\n",
    "        'ecc'                : 0.1,    # Eccentricity.\n",
    "        'anomaly'            : np.pi,  # mean anomaly\n",
    "        # Initial conditions and output time grid\n",
    "        'domain'             : 0,      # Time domain.\n",
    "        'srate_interp'       : 2048,   # srate at which to interpolate. Default = 4096.\n",
    "        'use_geometric_units': \"yes\",  # output quantities in geometric units.\n",
    "        'initial_frequency'  : 0.002,   # in Hz if use_geometric_units = \"no\", else in geometric units\n",
    "        'interp_uniform_grid': \"yes\",  # interpolate mode by mode on a uniform grid.\n",
    "\n",
    "        # Modes\n",
    "        'use_mode_lm'        : [1],    # List of modes to use/output through EOBRunPy, 1 for only (2, 2) mode\n",
    "\n",
    "        # Output parameters (Python)\n",
    "        'arg_out'            : \"yes\",  # Output hlm/hflm.\n",
    "    }"
   ]
  },
  {
   "cell_type": "code",
   "execution_count": 5,
   "id": "4f610af5-ca33-4fab-9721-05db8bbe2e68",
   "metadata": {},
   "outputs": [],
   "source": [
    "def get_dataDict(pars):\n",
    "    t, _, _, hlm, _ = EOBRun_module.EOBRunPy(pars)\n",
    "    return {\"t\": t,\n",
    "            \"amplm\": {(2, 2): hlm[\"1\"][0]},\n",
    "            \"phaselm\": {(2, 2): hlm[\"1\"][1]}}"
   ]
  },
  {
   "cell_type": "code",
   "execution_count": 6,
   "id": "9c22e2bf-ec3c-45f2-8095-d3215640a9af",
   "metadata": {},
   "outputs": [],
   "source": [
    "dataDict = get_dataDict(parameters)"
   ]
  },
  {
   "cell_type": "code",
   "execution_count": 7,
   "id": "637be8b5-cf05-4669-a292-e64c1ffdf8c6",
   "metadata": {},
   "outputs": [],
   "source": [
    "gwecc_dict = measure_eccentricity(\n",
    "    dataDict=dataDict,\n",
    "    tref_in=dataDict[\"t\"])"
   ]
  },
  {
   "cell_type": "code",
   "execution_count": 8,
   "id": "2295f6c0-e24b-4182-abbd-d94016d77494",
   "metadata": {},
   "outputs": [],
   "source": [
    "gwecc_obj = gwecc_dict[\"gwecc_object\"]"
   ]
  },
  {
   "cell_type": "code",
   "execution_count": 13,
   "id": "00ce1dd3-a0f1-4c43-a363-6338d398d994",
   "metadata": {},
   "outputs": [
    {
     "data": {
      "text/plain": [
       "Text(0.5, 0, '$t$ [$M$]')"
      ]
     },
     "execution_count": 13,
     "metadata": {},
     "output_type": "execute_result"
    },
    {
     "data": {
      "image/png": "[encoded data removed]",
      "text/plain": [
       "<Figure size 1200x400 with 1 Axes>"
      ]
     },
     "metadata": {},
     "output_type": "display_data"
    }
   ],
   "source": [
    "use_fancy_plotsettings()\n",
    "fig, ax = gwecc_obj.plot_eccentricity()\n",
    "ax.set_xlabel(labelsDict[\"t_dimless\"])"
   ]
  },
  {
   "cell_type": "code",
   "execution_count": null,
   "id": "8d464f28-3d3f-485d-a283-e1321ca42be9",
   "metadata": {},
   "outputs": [],
   "source": []
  }
 ],
 "metadata": {
  "kernelspec": {
   "display_name": "Python 3 (ipykernel)",
   "language": "python",
   "name": "python3"
  },
  "language_info": {
   "codemirror_mode": {
    "name": "ipython",
    "version": 3
   },
   "file_extension": ".py",
   "mimetype": "text/x-python",
   "name": "python",
   "nbconvert_exporter": "python",
   "pygments_lexer": "ipython3",
   "version": "3.9.19"
  }
 },
 "nbformat": 4,
 "nbformat_minor": 5
}
